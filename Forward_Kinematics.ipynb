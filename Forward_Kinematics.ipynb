{
 "cells": [
  {
   "cell_type": "code",
   "execution_count": 1,
   "metadata": {
    "collapsed": true
   },
   "outputs": [],
   "source": [
    "import numpy as np\n",
    "from sympy import *\n",
    "from sympy.matrices import Matrix"
   ]
  },
  {
   "cell_type": "markdown",
   "metadata": {},
   "source": [
    "First we create the symbols to be used in our Denavit-Hardenberg Calculations"
   ]
  },
  {
   "cell_type": "code",
   "execution_count": 58,
   "metadata": {
    "collapsed": true
   },
   "outputs": [],
   "source": [
    "# Create symbols\n",
    "q1, q2, q3, q4, q5, q6, q7 = symbols('q1:8') # joint angle theta_i\n",
    "d1, d2, d3, d4, d5, d6, d7 = symbols('d1:8') # link offset\n",
    "a0, a1, a2, a3, a4, a5, a6 = symbols('a0:7') # link length\n",
    "alpha0, alpha1, alpha2, alpha3, alpha4, alpha5, alpha6 = symbols('alpha0:7') # twist angle"
   ]
  },
  {
   "cell_type": "markdown",
   "metadata": {},
   "source": [
    "Then create DH parameters"
   ]
  },
  {
   "cell_type": "code",
   "execution_count": 60,
   "metadata": {},
   "outputs": [],
   "source": [
    "### KUKA KR210 ###\n",
    "# DH parameters\n",
    "s = {alpha0:     0,  a0:      0, d1:  0.75,  \n",
    "     alpha1: -pi/2,  a1:   0.35, d2:     0, q2: q2-pi/2, \n",
    "     alpha2:     0,  a2:   1.25, d3:     0,       \n",
    "     alpha3: -pi/2,  a3: -0.054, d4:  1.50,\n",
    "     alpha4:  pi/2,  a4:      0, d5:     0,\n",
    "     alpha5: -pi/2,  a5:      0, d6:     0,\n",
    "     alpha6:     0,  a6:      0, d7: 0.303, q7: 0}"
   ]
  },
  {
   "cell_type": "markdown",
   "metadata": {},
   "source": [
    "Next we define the transformation matrices from the base frame to the gripper frame."
   ]
  },
  {
   "cell_type": "code",
   "execution_count": 38,
   "metadata": {},
   "outputs": [
    {
     "name": "stdout",
     "output_type": "stream",
     "text": [
      "T0_1 Matrix([[cos(q1), -sin(q1), 0, 0], [sin(q1), cos(q1), 0, 0], [0, 0, 1, 0.750000000000000], [0, 0, 0, 1]])\n",
      "T1_2 Matrix([[sin(q2), cos(q2), 0, 0.350000000000000], [0, 0, 1, 0], [cos(q2), -sin(q2), 0, 0], [0, 0, 0, 1]])\n",
      "T2_3 Matrix([[cos(q3), -sin(q3), 0, 1.25000000000000], [sin(q3), cos(q3), 0, 0], [0, 0, 1, 0], [0, 0, 0, 1]])\n",
      "T3_4 Matrix([[cos(q4), -sin(q4), 0, -0.0540000000000000], [0, 0, 1, 1.50000000000000], [-sin(q4), -cos(q4), 0, 0], [0, 0, 0, 1]])\n",
      "T4_5 Matrix([[cos(q5), -sin(q5), 0, 0], [0, 0, -1, 0], [sin(q5), cos(q5), 0, 0], [0, 0, 0, 1]])\n",
      "T5_6 Matrix([[cos(q6), -sin(q6), 0, 0], [0, 0, 1, 0], [-sin(q6), -cos(q6), 0, 0], [0, 0, 0, 1]])\n",
      "T6_G Matrix([[1, 0, 0, 0], [0, 1, 0, 0], [0, 0, 1, 0.303000000000000], [0, 0, 0, 1]])\n"
     ]
    }
   ],
   "source": [
    "# Define Modified DH Transformation matrix\n",
    "def build_transformation_matrix( theta, alpha, a, d ):\n",
    "    T = Matrix([[            cos(theta),           -sin(theta),           0,             a ],\n",
    "                [ sin(theta)*cos(alpha), cos(theta)*cos(alpha), -sin(alpha), -sin(alpha)*d ],\n",
    "                [ sin(theta)*sin(alpha), cos(theta)*sin(alpha),  cos(alpha),  cos(alpha)*d ],\n",
    "                [                     0,                     0,           0,             1 ]]) \n",
    "    T = T.subs(s)\n",
    "       \n",
    "    return(T)\n",
    "\n",
    "# Modified DH params\n",
    "T0_1 = build_transformation_matrix( q1, alpha0, a0, d1 )\n",
    "T1_2 = build_transformation_matrix( q2, alpha1, a1, d2 )\n",
    "T2_3 = build_transformation_matrix( q3, alpha2, a2, d3 )\n",
    "T3_4 = build_transformation_matrix( q4, alpha3, a3, d4 )\n",
    "T4_5 = build_transformation_matrix( q5, alpha4, a4, d5 )\n",
    "T5_6 = build_transformation_matrix( q6, alpha5, a5, d6 )\n",
    "T6_G = build_transformation_matrix( q7, alpha6, a6, d7 )\n",
    "\n",
    "print(\"T0_1\", T0_1)\n",
    "print(\"T1_2\", T1_2)\n",
    "print(\"T2_3\", T2_3)\n",
    "print(\"T3_4\", T3_4)\n",
    "print(\"T4_5\", T4_5)\n",
    "print(\"T5_6\", T5_6)\n",
    "print(\"T6_G\", T6_G)"
   ]
  },
  {
   "cell_type": "markdown",
   "metadata": {},
   "source": [
    "Because of the differences between the Denavit-Hardenberg convention and the definition in the URDF-File, we must apply a correctional transform to the last frame to calculate the position in the world-frame. Therefore we first apply a body-fixed rotation around z, then a body-fixed rotation around y.\n",
    "\n",
    "R_corr is the composition of those two rotations."
   ]
  },
  {
   "cell_type": "code",
   "execution_count": 9,
   "metadata": {
    "collapsed": true
   },
   "outputs": [],
   "source": [
    "#Correct the Gripper\n",
    "R_z =  Matrix([[     cos(np.pi), -sin(np.pi),             0, 0],\n",
    "               [     sin(np.pi),  cos(np.pi),             0, 0],\n",
    "               [              0,           0,             1, 0],\n",
    "               [              0,           0,             0, 1]])\n",
    "\n",
    "R_y =  Matrix([[  cos(-np.pi/2),           0, sin(-np.pi/2), 0],\n",
    "               [              0,           1,             0, 0],\n",
    "               [ -sin(-np.pi/2),           0, cos(-np.pi/2), 0],\n",
    "               [              0,           0,             0, 1]])\n",
    "\n",
    "R_corr = simplify(R_z * R_y)"
   ]
  },
  {
   "cell_type": "markdown",
   "metadata": {},
   "source": [
    "Now we create individual transformation matrices from base_link to the current link."
   ]
  },
  {
   "cell_type": "code",
   "execution_count": 57,
   "metadata": {
    "scrolled": true
   },
   "outputs": [],
   "source": [
    "# Create individual transformation matrices\n",
    "T0_2 = simplify(T0_1 * T1_2) # base_link to link_2\n",
    "T0_3 = simplify(T0_2 * T2_3) # base_link to link_3\n",
    "T0_4 = simplify(T0_3 * T3_4) # base_link to link_4\n",
    "T0_5 = simplify(T0_4 * T4_5) # base_link to link_5\n",
    "T0_6 = simplify(T0_5 * T5_6) # base_link to link_6\n",
    "T0_G = simplify(T0_6 * T6_G) # base_link to gripper_link\n",
    "T0_G_corr = simplify(T0_G * R_corr) # Total HT between base_link and gripper_link with orientation correction applied\n",
    "\n"
   ]
  },
  {
   "cell_type": "markdown",
   "metadata": {},
   "source": [
    "We extract the end-effector position and orient from the request in ROS. In this notebook, those values are given from the test-dataset. From the given roll, pitch and yaw angles we can calculate a transformation matrix Rrpy which describes the current position and orientation.\n",
    "\n",
    "Rrpy is a Matrix calculated from a rotation Rx \\* Ry \\* Rz"
   ]
  },
  {
   "cell_type": "code",
   "execution_count": 121,
   "metadata": {},
   "outputs": [
    {
     "name": "stdout",
     "output_type": "stream",
     "text": [
      "Rrpy calculated by rotation Rz * Ry * Rz: Matrix([\n",
      "[cos(q2)*cos(q3), sin(q1)*sin(q2)*cos(q3) - sin(q3)*cos(q1),  sin(q1)*sin(q3) + sin(q2)*cos(q1)*cos(q3)],\n",
      "[sin(q3)*cos(q2), sin(q1)*sin(q2)*sin(q3) + cos(q1)*cos(q3), -sin(q1)*cos(q3) + sin(q2)*sin(q3)*cos(q1)],\n",
      "[       -sin(q2),                           sin(q1)*cos(q2),                            cos(q1)*cos(q2)]])\n",
      "My old Rrpy:  Matrix([[cos(q2)*cos(q3), sin(q1)*sin(q2)*cos(q3) - sin(q3)*cos(q1), sin(q1)*sin(q3) + sin(q2)*cos(q1)*cos(q3)], [sin(q3)*cos(q2), sin(q1)*sin(q2)*sin(q3) + cos(q1)*cos(q3), -sin(q1)*cos(q3) + sin(q2)*sin(q3)*cos(q1)], [-sin(q2), sin(q1)*cos(q2), cos(q1)*cos(q2)]])\n"
     ]
    }
   ],
   "source": [
    "# Build a rotation matrix from the Roll, Pitch and Yaw angles\n",
    "def get_wrist_rot_matrix(roll, pitch, yaw):\n",
    "        \n",
    "    R_z =  Matrix([[     cos(yaw), -sin(yaw),             0],\n",
    "                   [     sin(yaw),  cos(yaw),             0],\n",
    "                   [              0,           0,             1]])\n",
    "\n",
    "    R_y =  Matrix([[  cos(pitch),           0, sin(pitch)],\n",
    "                   [              0,           1,             0],\n",
    "                   [ -sin(pitch),           0, cos(pitch)]])\n",
    "    \n",
    "    R_x = Matrix([[ 1,              0,        0],\n",
    "                  [ 0,        cos(roll), -sin(roll)],\n",
    "                  [ 0,        sin(roll),  cos(roll)]])\n",
    "     \n",
    "    Rrpy_2 = simplify ( R_z * R_y * R_x )\n",
    "    print(\"Rrpy calculated by rotation Rz * Ry * Rz:\", Rrpy_2)\n",
    "    \n",
    "    \n",
    "    # Rrpy = Rz * Ry * Rx\n",
    "    Rrpy = Matrix([[    cos(yaw)*cos(pitch),   cos(yaw)*sin(pitch)*sin(roll) - sin(yaw)*cos(roll),    cos(yaw)*sin(pitch)*cos(roll) + sin(yaw)*sin(roll)],\n",
    "                   [    sin(yaw)*cos(pitch),   sin(yaw)*sin(pitch)*sin(roll) + cos(yaw)*cos(roll),    sin(yaw)*sin(pitch)*cos(roll) - cos(yaw)*sin(roll)],\n",
    "                   [            -sin(pitch),             cos(pitch)*sin(roll),                                       cos(pitch)*cos(roll)               ]])\n",
    "    print(\"My old Rrpy: \", Rrpy)\n",
    "    return Rrpy\n",
    "\n",
    "Rrpy = get_wrist_rot_matrix(q1, q2, q3)"
   ]
  },
  {
   "cell_type": "markdown",
   "metadata": {},
   "source": [
    "With Rrpy we can find the location of the wrist center (WC) relative to the base frame. \n",
    "\n",
    "l (column 1 of Rrpy) is the vector along gripper_link x-axis.\n",
    "\n",
    "The end_effector_length is the distance between joint 5 and the tip of the gripper fingers. \n",
    "\n",
    "Finally we extend Rrpy with the given positions of the gripper to create a 4x4 transformation matrix we can later use in calculations."
   ]
  },
  {
   "cell_type": "code",
   "execution_count": 122,
   "metadata": {
    "collapsed": true
   },
   "outputs": [],
   "source": [
    "def get_wrist_pos(px, py, pz, Rrpy):\n",
    "           \n",
    "    #end_effector_length = 0.453\n",
    "    end_effector_length = 0.303\n",
    "    \n",
    "    \n",
    "    lx = Rrpy[ 0, 0 ]\n",
    "    ly = Rrpy[ 1, 0 ]\n",
    "    lz = Rrpy[ 2, 0 ]\n",
    "\n",
    "    d6 = 0\n",
    "\n",
    "    # Calculate Wrist Center\n",
    "    wx = px - ( end_effector_length + d6 ) * lx\n",
    "    wy = py - ( end_effector_length + d6 ) * ly\n",
    "    wz = pz - ( end_effector_length + d6 ) * lz\n",
    "    \n",
    "    # Modify Rrpy to take in transformation from gripper\n",
    "    Rrpy = Rrpy.row_join(Matrix([[px],[py],[pz]]))\n",
    "    Rrpy = Rrpy.col_join(Matrix([[0,0,0,1]]))\n",
    "\n",
    "    return wx, wy, wz, Rrpy\n"
   ]
  },
  {
   "cell_type": "markdown",
   "metadata": {},
   "source": [
    "Next we find joint variables, theta1, theta2 and theta3.\n",
    "\n",
    "For Theta 1 we can just take the x and y coordinates we calculated for the wrist center and derive theta1 from tha atan2-function.\n",
    "![Deriving Theta 1](writeup_images/theta1.png)\n",
    "\n",
    "\n",
    "Theta 2 is a bit trickier. First, we calculate the wrist center coordinates to match the origin of Frame O_1. Therefor we substract a1 as a horizontal offset from x1 and d1 as a vertical offset from z1. With those new coordinates, we can calculate the distance from Joint2 to Joint5: L25. With the fixed length a3 and d4 we can calculate the distance from Joint3 to Joint5: L35.\n",
    "\n",
    "Now width the arm-length a2, L25 and L35 we have our triangle and are ready to perform trigonometric calculations. First we calculate the angle *beta2* between a2 and L25 with atan2. For *beta1* we use the cosine-law. As theta2 has a minus 90° Offset, we now have to subtract those two angles from 90°.\n",
    "![Deriving Theta 2](writeup_images/theta2.png)\n",
    "\n",
    "For theta3 we can use the already calculated L35 length along with a3 and d4 to calculate a fixed offset angle *beta4*. Additionally, we use the cosine law again to calculate the angle between a2 and L35. To derive theta3 we have to subtract beta3 and beta 4 from the 90° between a2 and d4.\n",
    "![Deriving Theta 3](writeup_images/theta3.png)"
   ]
  },
  {
   "cell_type": "code",
   "execution_count": 131,
   "metadata": {
    "collapsed": true
   },
   "outputs": [],
   "source": [
    "# Calculate joint angles using Geometric IK method\n",
    "def get_theta_123 (wx, wy, wz):\n",
    "    \n",
    "    theta1 = atan2(wy, wx)\n",
    "    a_1 = 0.35\n",
    "    a_2 = 1.25\n",
    "    d_1 = 0.75\n",
    "    d_4 = 1.50\n",
    "    a_3 = -0.054\n",
    "    \n",
    "  \n",
    "    r   = sqrt( wx**2 + wy**2) -a_1\n",
    "    z_c = wz - d_1 # Subtract d1 as vertical offset from robot base\n",
    "    \n",
    "    \n",
    "    L_25 = sqrt(r**2 + z_c**2)\n",
    "    L_35 = sqrt(a_3**2+d_4**2)\n",
    "    \n",
    "    beta_2 = atan2( z_c, r )\n",
    "    cos_beta_1 = ( ( L_35**2 - L_25**2 - a_2**2 ) / ( - 2 * L_25 * a_2 ) )\n",
    "    beta_11 = atan2(  sqrt( 1 - cos_beta_1**2 ),  cos_beta_1 ) \n",
    "    beta_12 = atan2(  - sqrt( 1 - cos_beta_1**2 ), cos_beta_1 ) \n",
    "\n",
    "    theta2 = np.pi/2 - beta_11 - beta_2\n",
    "    \n",
    "    beta_4 = atan2(a_3, d_4)\n",
    "    cos_theta_3 = ( L_25**2 - a_2**2 - L_35**2) / ( -2 * a_2 * L_35 )\n",
    "    beta_31 = atan2( sqrt( 1 - cos_theta_3**2 ), cos_theta_3 )\n",
    "    beta_32 = atan2( - sqrt( 1 - cos_theta_3**2 ), cos_theta_3 )\n",
    "    \n",
    "    theta3 = np.pi/2 - beta_31 - beta_4\n",
    "        \n",
    "    return theta1.evalf(), theta2.evalf(), theta3.evalf()"
   ]
  },
  {
   "cell_type": "markdown",
   "metadata": {},
   "source": [
    "Once the first three joint variables are known, we calculate R0_3 via application of homogeneous transforms up to the WC. Then we calculate the R3_6_var Matrix, which contains the remaining unknown thetas 4-6.\n",
    "\n",
    "By multiplying the inverse of R0_3 with Rrpy we can retrieve R3_6_eval, which contains numerical values. This is important for the next step, where we use those two matrices to generate equations to solve for the thetas."
   ]
  },
  {
   "cell_type": "code",
   "execution_count": 65,
   "metadata": {
    "collapsed": true
   },
   "outputs": [],
   "source": [
    "def transform_to_wc(theta1, theta2, theta3, Rrpy):\n",
    " \n",
    "    R0_3 = simplify( T0_1 * T1_2 * T2_3 )\n",
    "    R0_3 = R0_3.evalf(subs={q1: theta1, q2: theta2, q3: theta3})\n",
    "    R3_6_eval = R0_3.inv() * Rrpy\n",
    "    R3_6_var = simplify( T3_4 * T4_5 * T5_6 )\n",
    "    \n",
    "    return R3_6_var, R3_6_eval        "
   ]
  },
  {
   "cell_type": "markdown",
   "metadata": {},
   "source": [
    "To get the composite rotation matrix R3_6 we multiply the precalculated T3_4, T4_5 and T5_6.\n",
    "![Deriving R3_6](writeup_images/R3_6.png)"
   ]
  },
  {
   "cell_type": "code",
   "execution_count": 66,
   "metadata": {},
   "outputs": [
    {
     "name": "stdout",
     "output_type": "stream",
     "text": [
      "R3_6: Matrix([\n",
      "[-sin(q4)*sin(q6) + cos(q4)*cos(q5)*cos(q6), -sin(q4)*cos(q6) - sin(q6)*cos(q4)*cos(q5), -sin(q5)*cos(q4), -0.054],\n",
      "[                           sin(q5)*cos(q6),                           -sin(q5)*sin(q6),          cos(q5),    1.5],\n",
      "[-sin(q4)*cos(q5)*cos(q6) - sin(q6)*cos(q4),  sin(q4)*sin(q6)*cos(q5) - cos(q4)*cos(q6),  sin(q4)*sin(q5),      0],\n",
      "[                                         0,                                          0,                0,      1]])\n"
     ]
    }
   ],
   "source": [
    "R3_6_var, R3_6_eval = transform_to_wc( theta1, theta2, theta3, Rrpy )\n",
    "print(\"R3_6:\", R3_6_var)"
   ]
  },
  {
   "cell_type": "markdown",
   "metadata": {},
   "source": [
    "From this matrix we choose r_ij to calculate our angles. Those are the r_ji I choose for my calculations:"
   ]
  },
  {
   "cell_type": "code",
   "execution_count": 54,
   "metadata": {},
   "outputs": [
    {
     "name": "stdout",
     "output_type": "stream",
     "text": [
      "r23 =  cos(q5)\n",
      "r13 =  -sin(q5)*cos(q4)\n",
      "r33 =  sin(q4)*sin(q5)\n",
      "r22 =  -sin(q5)*sin(q6)\n",
      "r21 =  sin(q5)*cos(q6)\n"
     ]
    }
   ],
   "source": [
    "print(\"r23 = \", R3_6_var[1,2])\n",
    "print(\"r13 = \", R3_6_var[0,2])\n",
    "print(\"r33 = \", R3_6_var[2,2])\n",
    "\n",
    "print(\"r22 = \", R3_6_var[1,1])\n",
    "print(\"r21 = \", R3_6_var[1,0])"
   ]
  },
  {
   "cell_type": "markdown",
   "metadata": {},
   "source": [
    "Now we find a set of Euler angles corresponding to the rotation matrix.\n",
    "\n",
    "We start with Theta 5 as r23 contains an isolated cos(q5). to get sin(q5) we calculate sqrt(r13^2 + r33^2), as they contain sin(q4) and cos(q4). Those combined equate to 1 and only leave sin(q5) remaining.\n",
    "![Deriving Theta 5](writeup_images/theta5.png)\n",
    "\n",
    "Now that we have q5 calculated, we can choose r_ij containing only q4 and q5 to calculate theta4.\n",
    "![Deriving Theta 4](writeup_images/theta4.png)\n",
    "\n",
    "And we can choose r_ij containing only q6 and q5 to calculate theta6.\n",
    "![Deriving Theta 6](writeup_images/theta6.png)"
   ]
  },
  {
   "cell_type": "code",
   "execution_count": 69,
   "metadata": {},
   "outputs": [],
   "source": [
    "def get_theta_456(R3_6_var, R3_6_eval):\n",
    "    r13 = R3_6_eval[0,2]\n",
    "    r33 = R3_6_eval[2,2]\n",
    "    r23 = R3_6_eval[1,2]\n",
    "    r22 = R3_6_eval[1,1]\n",
    "    r21 = R3_6_eval[1,0]\n",
    "        \n",
    "    sin_q5 = sqrt(r13**2 + r33**2).evalf()\n",
    "           \n",
    "    theta5 = atan2( sin_q5, r23 ).evalf()\n",
    "    \n",
    "    if( sin_q5 < 0 ):\n",
    "        theta4 = atan2(-r33,  r13).evalf()\n",
    "        theta6 = atan2( r22, -r21).evalf()\n",
    "    else:\n",
    "        theta4 = atan2( r33,  -r13).evalf()\n",
    "        theta6 = atan2( -r22, r21).evalf()\n",
    "           \n",
    "    return theta4, theta5, theta6"
   ]
  },
  {
   "cell_type": "markdown",
   "metadata": {},
   "source": [
    "Now that we have all our values calculated, lets see what we can derive from the test-data.\n",
    "This is some test-input data for verifying the Inverse Kinematics using Forward Kinematics."
   ]
  },
  {
   "cell_type": "code",
   "execution_count": 125,
   "metadata": {
    "collapsed": true
   },
   "outputs": [],
   "source": [
    "test_set_1 = { \"xpos\" : 2.3029, \"ypos\" : 0, \"zpos\" : 1.9466, \"roll\" : 0, \"pitch\" : 0, \"yaw\" : 0 , \n",
    "               \"theta1_rviz\" : 0, \"theta2_rviz\" : 0, \"theta3_rviz\" : 0, \n",
    "               \"theta4_rviz\" : 0, \"theta5_rviz\" : 0, \"theta6_rviz\" : 0,\n",
    "               \"wcx_rviz\" : 1.84990000000000, \"wcy_rviz\" : 0, \"wcz_rviz\" : 1.94660000000000,}\n",
    "test_set_2 = { \"xpos\" : 2.16135, \"ypos\" : -1.42635, \"zpos\" : 1.5511, \n",
    "               \"roll\" : 1.6544,  \"pitch\" : 0.4899, \"yaw\" : 0.0624, \n",
    "               \"theta1_rviz\" : -0.65, \"theta2_rviz\" : -0.6500, \"theta3_rviz\" : -0.65, \n",
    "               \"theta4_rviz\" : 0.95, \"theta5_rviz\" : 0.79, \"theta6_rviz\" : 0.49,\n",
    "               \"wcx_rviz\" : 1.89451, \"wcy_rviz\" : -1.44302, \"wcz_rviz\" : 1.69366,}\n",
    "test_set_2 = { \"xpos\" : -0.56754, \"ypos\" : 0.93663, \"zpos\" : 3.0038, \n",
    "               \"roll\" : 0.62073, \"pitch\" : 0.48318, \"yaw\" : 0.38759, \n",
    "               \"theta1_rviz\" : -0.65, \"theta2_rviz\" : 0.45, \"theta3_rviz\" : -0.36, \n",
    "               \"theta4_rviz\" : 0.95, \"theta5_rviz\" : 0.79, \"theta6_rviz\" : 0.49,\n",
    "               \"wcx_rviz\" : -0.638, \"wcy_rviz\" : 0.64198, \"wcz_rviz\" : 2.9988,}\n",
    "\n",
    "# Choose current set of test data\n",
    "current_test_set = test_set_2"
   ]
  },
  {
   "cell_type": "code",
   "execution_count": 126,
   "metadata": {},
   "outputs": [
    {
     "name": "stdout",
     "output_type": "stream",
     "text": [
      "Rrpy calculated by rotation Rz * Ry * Rz: Matrix([\n",
      "[ 0.81983628831082, -0.0572727414660277,  0.569726507592637],\n",
      "[0.334690367557598,   0.855247381121388, -0.395644126645611],\n",
      "[-0.46459747979611,     0.5150453865146,  0.720331473418404]])\n",
      "My old Rrpy:  Matrix([[0.819836288310820, -0.0572727414660277, 0.569726507592637], [0.334690367557598, 0.855247381121388, -0.395644126645611], [-0.464597479796110, 0.515045386514600, 0.720331473418404]])\n"
     ]
    }
   ],
   "source": [
    "Rrpy                                = get_wrist_rot_matrix(current_test_set[\"roll\"], current_test_set[\"pitch\"], current_test_set[\"yaw\"])\n",
    "test_wx,  test_wy,    test_wz, Rrpy = get_wrist_pos(current_test_set[\"xpos\"], current_test_set[\"ypos\"], current_test_set[\"zpos\"], Rrpy)\n",
    "theta1,   theta2,     theta3        = get_theta_123( test_wx, test_wy, test_wz )\n",
    "R3_6_var, R3_6_eval                 = transform_to_wc( theta1, theta2, theta3, Rrpy )\n",
    "theta4,   theta5,     theta6        = get_theta_456( R3_6_var, R3_6_eval )\n"
   ]
  },
  {
   "cell_type": "code",
   "execution_count": 127,
   "metadata": {},
   "outputs": [
    {
     "ename": "TypeError",
     "evalue": "calculate_FK_pose() missing 1 required positional argument: 'theta6'",
     "output_type": "error",
     "traceback": [
      "\u001b[0;31m---------------------------------------------------------------------------\u001b[0m",
      "\u001b[0;31mTypeError\u001b[0m                                 Traceback (most recent call last)",
      "\u001b[0;32m<ipython-input-127-dba888faf44c>\u001b[0m in \u001b[0;36m<module>\u001b[0;34m()\u001b[0m\n\u001b[1;32m     22\u001b[0m \u001b[0;34m\u001b[0m\u001b[0m\n\u001b[1;32m     23\u001b[0m \u001b[0;34m\u001b[0m\u001b[0m\n\u001b[0;32m---> 24\u001b[0;31m \u001b[0mcalculate_FK_pose\u001b[0m\u001b[0;34m(\u001b[0m \u001b[0;34m-\u001b[0m\u001b[0;36m0.6509\u001b[0m\u001b[0;34m,\u001b[0m \u001b[0;36m0.2529\u001b[0m\u001b[0;34m,\u001b[0m \u001b[0;34m-\u001b[0m\u001b[0;36m0.3261\u001b[0m\u001b[0;34m,\u001b[0m \u001b[0;34m-\u001b[0m\u001b[0;36m1.4192\u001b[0m\u001b[0;34m,\u001b[0m \u001b[0;36m0.9081\u001b[0m\u001b[0;34m,\u001b[0m \u001b[0;34m-\u001b[0m\u001b[0;36m0.6427\u001b[0m \u001b[0;34m)\u001b[0m\u001b[0;34m\u001b[0m\u001b[0m\n\u001b[0m",
      "\u001b[0;31mTypeError\u001b[0m: calculate_FK_pose() missing 1 required positional argument: 'theta6'"
     ]
    }
   ],
   "source": [
    "def calculate_FK_pose( self, theta1, theta2, theta3, theta4, theta5, theta6 ):\n",
    "\n",
    "    EEpos = self.T0_G_corr.evalf( subs={ self.q1: theta1, self.q2: theta2, self.q3: theta3, self.q4: theta4, self.q5: theta5, self.q6: theta6 } )\n",
    "    Test = Matrix([[1.0],[1.0],[1.0],[1.0]])\n",
    "    EEpos = simplify( EEpos * Test )\n",
    "    ex = EEpos[0,0]\n",
    "    ey = EEpos[1,0]\n",
    "    ez = EEpos[2,0]\n",
    "    return ex, ey, ez\n",
    "\n",
    "def calculate_J5_pose( self, theta1, theta2, theta3, theta4, theta5, theta6 ):\n",
    "\n",
    "    J5pos = simplify( self.T0_5 * self.R_corr )\n",
    "    new_J5 = J5pos.evalf( subs={ self.q1: theta1, self.q2: theta2, self.q3: theta3, self.q4: theta4, self.q5: theta5, self.q6: theta6 } )\n",
    "    Test = Matrix([[1.0],[1.0],[1.0],[1.0]])\n",
    "    new_J5 = simplify( new_J5 * Test )\n",
    "    jx = new_J5[0,0]\n",
    "    jy = new_J5[1,0]\n",
    "    jz = new_J5[2,0]\n",
    "    return jx, jy, jz\n",
    "\n",
    "\n",
    "\n",
    "calculate_FK_pose( -0.6509, 0.2529, -0.3261, -1.4192, 0.9081, -0.6427 )"
   ]
  },
  {
   "cell_type": "markdown",
   "metadata": {},
   "source": [
    "And now for we compare the calculated values against expected values from the sim"
   ]
  },
  {
   "cell_type": "code",
   "execution_count": 128,
   "metadata": {},
   "outputs": [
    {
     "name": "stdout",
     "output_type": "stream",
     "text": [
      "---------------- input data ----------------\n",
      "px, py, pz:    -0.56754 0.93663 3.0038\n",
      "r , p , y :    0.62073 0.48318 0.38759 \n",
      "\n",
      "--------------- wrist center ---------------\n",
      "WC_x:  -0.815950395358179 expected:  -0.638\n",
      "WC_y:  0.835218818630048 expected:  0.64198\n",
      "WC_z:  3.14457303637822 expected:  2.9988 \n",
      "\n",
      "--------------- joint angles ---------------\n",
      "theta 1: 2.34452545680045 expected:  -0.65\n",
      "theta 2: -0.730973161577067 expected:  0.45\n",
      "theta 3: -1.02650253231907 expected:  -0.36\n",
      "theta 4: -2.16144899394904 expected:  0.95\n",
      "theta 5: 0.0428143668228980 expected:  0.79\n",
      "theta 6: -0.436237779464465 expected:  0.49 \n",
      "\n",
      "--------------- final matrices ---------------\n",
      "T0_G_corr:  Matrix([\n",
      "[ 0.171374330942821,  0.254024895969983, -0.951894001935793, 0.547958761407931],\n",
      "[-0.124549223196753,  0.964022052079091,  0.234838187069958, -0.54548440831795],\n",
      "[ 0.977301555148147, 0.0783124213178125,  0.196847237654876,  3.46073988187786],\n",
      "[                 0,                  0,                  0,               1.0]])\n",
      "Rrpy:  Matrix([[0.819836288310820, -0.0572727414660277, 0.569726507592637, -0.567540000000000], [0.334690367557598, 0.855247381121388, -0.395644126645611, 0.936630000000000], [-0.464597479796110, 0.515045386514600, 0.720331473418404, 3.00380000000000], [0, 0, 0, 1.00000000000000]])\n"
     ]
    }
   ],
   "source": [
    "print(\"---------------- input data ----------------\")\n",
    "print(\"px, py, pz:   \", current_test_set[\"xpos\"], current_test_set[\"ypos\"], current_test_set[\"zpos\"])\n",
    "print(\"r , p , y :   \", current_test_set[\"roll\"], current_test_set[\"pitch\"], current_test_set[\"yaw\"],\"\\n\")\n",
    "print(\"--------------- wrist center ---------------\")\n",
    "print(\"WC_x: \", test_wx, \"expected: \", current_test_set[\"wcx_rviz\"])\n",
    "print(\"WC_y: \", test_wy, \"expected: \", current_test_set[\"wcy_rviz\"])\n",
    "print(\"WC_z: \", test_wz, \"expected: \", current_test_set[\"wcz_rviz\"],\"\\n\")\n",
    "print(\"--------------- joint angles ---------------\")\n",
    "print(\"theta 1:\", theta1, \"expected: \", current_test_set[\"theta1_rviz\"])\n",
    "print(\"theta 2:\", theta2, \"expected: \", current_test_set[\"theta2_rviz\"])\n",
    "print(\"theta 3:\", theta3, \"expected: \", current_test_set[\"theta3_rviz\"])\n",
    "print(\"theta 4:\", theta4, \"expected: \", current_test_set[\"theta4_rviz\"])\n",
    "print(\"theta 5:\", theta5, \"expected: \", current_test_set[\"theta5_rviz\"])\n",
    "print(\"theta 6:\", theta6, \"expected: \", current_test_set[\"theta6_rviz\"],\"\\n\")\n",
    "print(\"--------------- final matrices ---------------\")\n",
    "theta_values = { q1: theta1, q2: theta2, q3: theta3, q4: theta4, q5: theta5, q6: theta6 }\n",
    "print(\"T0_G_corr: \", T0_G_corr.evalf(subs=theta_values))\n",
    "print(\"Rrpy: \", Rrpy.evalf())"
   ]
  }
 ],
 "metadata": {
  "kernelspec": {
   "display_name": "Python 3",
   "language": "python",
   "name": "python3"
  },
  "language_info": {
   "codemirror_mode": {
    "name": "ipython",
    "version": 3
   },
   "file_extension": ".py",
   "mimetype": "text/x-python",
   "name": "python",
   "nbconvert_exporter": "python",
   "pygments_lexer": "ipython3",
   "version": "3.5.2"
  },
  "widgets": {
   "state": {},
   "version": "1.1.2"
  }
 },
 "nbformat": 4,
 "nbformat_minor": 2
}
