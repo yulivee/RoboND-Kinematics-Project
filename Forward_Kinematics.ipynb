{
 "cells": [
  {
   "cell_type": "code",
   "execution_count": 4,
   "metadata": {
    "collapsed": true
   },
   "outputs": [],
   "source": [
    "import numpy as np\n",
    "from sympy import *\n",
    "from sympy.matrices import Matrix"
   ]
  },
  {
   "cell_type": "markdown",
   "metadata": {},
   "source": [
    "Define Testdata"
   ]
  },
  {
   "cell_type": "code",
   "execution_count": 5,
   "metadata": {
    "collapsed": true
   },
   "outputs": [],
   "source": [
    "test_set_1 = { \"xpos\" : 2.3029, \"ypos\" : 0, \"zpos\" : 1.9466, \"roll\" : 0, \"pitch\" : 0, \"yaw\" : 0 , \n",
    "               \"theta1_rviz\" : 0, \"theta2_rviz\" : 0, \"theta3_rviz\" : 0, \n",
    "               \"theta4_rviz\" : 0, \"theta5_rviz\" : 0, \"theta6_rviz\" : 0,\n",
    "               \"wcx_rviz\" : 1.84990000000000, \"wcy_rviz\" : 0, \"wcz_rviz\" : 1.94660000000000,}\n",
    "test_set_2 = { \"xpos\" : 2.153, \"ypos\" : 0, \"zpos\" : 1.9466, \"roll\" : 0, \"pitch\" : 0, \"yaw\" : 0 , \n",
    "               \"theta1_rviz\" : 0, \"theta2_rviz\" : 0, \"theta3_rviz\" : 0, \n",
    "               \"theta4_rviz\" : 0, \"theta5_rviz\" : 0, \"theta6_rviz\" : 0,}\n",
    "test_set_3 = { \"xpos\" : 1.801, \"ypos\" : 1.005, \"zpos\" : 1.148, \"roll\" : 1.557, \"pitch\" : 0.683, \"yaw\" : 2.649 , \n",
    "               \"theta1_rviz\" : 0.4, \"theta2_rviz\" : 0.2, \"theta3_rviz\" : 0.2, \n",
    "               \"theta4_rviz\" : 1, \"theta5_rviz\" : 1, \"theta6_rviz\" : 1,\n",
    "               \"wcx_rviz\" : 1.84990000000000, \"wcy_rviz\" : 0, \"wcz_rviz\" : 1.94660000000000,}\n",
    "test_set_3 = { \"xpos\" : 1.801, \"ypos\" : 1.005, \"zpos\" : 1.148, \"roll\" : 1.557, \"pitch\" : 0.683, \"yaw\" : 2.649 , \n",
    "               \"theta1_rviz\" : 0.72, \"theta2_rviz\" : 0.73, \"theta3_rviz\" : -0.93, \n",
    "               \"theta4_rviz\" : 1, \"theta5_rviz\" : -0.37, \"theta6_rviz\" : -1.09,\n",
    "               \"wcx_rviz\" : 1.84990000000000, \"wcy_rviz\" : 0, \"wcz_rviz\" : 1.94660000000000,}\n",
    "\n",
    "# Choose current set of test data\n",
    "current_test_set = test_set_3"
   ]
  },
  {
   "cell_type": "markdown",
   "metadata": {},
   "source": [
    "First create the symbols"
   ]
  },
  {
   "cell_type": "code",
   "execution_count": 7,
   "metadata": {},
   "outputs": [],
   "source": [
    "# Create symbols\n",
    "q1, q2, q3, q4, q5, q6, q7 = symbols('q1:8') #theta_i\n",
    "d1, d2, d3, d4, d5, d6, d7 = symbols('d1:8')\n",
    "a0, a1, a2, a3, a4, a5, a6 = symbols('a0:7')\n",
    "alpha0, alpha1, alpha2, alpha3, alpha4, alpha5, alpha6 = symbols('alpha0:7')"
   ]
  },
  {
   "cell_type": "markdown",
   "metadata": {},
   "source": [
    "Then create modified DH parameters"
   ]
  },
  {
   "cell_type": "code",
   "execution_count": 11,
   "metadata": {},
   "outputs": [
    {
     "name": "stdout",
     "output_type": "stream",
     "text": [
      "0\n"
     ]
    }
   ],
   "source": [
    "### KUKA KR210 ###\n",
    "# Create Modified DH parameters\n",
    "s = {alpha0:     0,  a0:      0, d1:  0.75,  \n",
    "     alpha1: -pi/2,  a1:   0.35, d2:     0, q2: q2-pi/2, \n",
    "     alpha2:     0,  a2:   1.25, d3:     0,       \n",
    "     alpha3: -pi/2,  a3: -0.054, d4:  1.50,\n",
    "     alpha4:  pi/2,  a4:      0, d5:     0,\n",
    "     alpha5: -pi/2,  a5:      0, d6:     0,\n",
    "     alpha6:     0,  a6:      0, d7: 0.303, q7: 0}\n",
    "\n",
    "print(alpha0.evalf(subs=s))"
   ]
  },
  {
   "cell_type": "markdown",
   "metadata": {},
   "source": [
    "Define the transformation matrix"
   ]
  },
  {
   "cell_type": "code",
   "execution_count": 151,
   "metadata": {
    "collapsed": true
   },
   "outputs": [],
   "source": [
    "# Define Modified DH Transformation matrix\n",
    "def build_transformation_matrix( theta, alpha, a, d ):\n",
    "    T = Matrix([[            cos(theta),           -sin(theta),           0,             a ],\n",
    "                [ sin(theta)*cos(alpha), cos(theta)*cos(alpha), -sin(alpha), -sin(alpha)*d ],\n",
    "                [ sin(theta)*sin(alpha), cos(theta)*sin(alpha),  cos(alpha),  cos(alpha)*d ],\n",
    "                [                     0,                     0,           0,             1 ]]) \n",
    "    T = T.subs(s)\n",
    "       \n",
    "    return(T)\n",
    "\n",
    "# Modified DH params\n",
    "T0_1 = build_transformation_matrix( q1, alpha0, a0, d1 )\n",
    "T1_2 = build_transformation_matrix( q2, alpha1, a1, d2 )\n",
    "T2_3 = build_transformation_matrix( q3, alpha2, a2, d3 )\n",
    "T3_4 = build_transformation_matrix( q4, alpha3, a3, d4 )\n",
    "T5_5 = build_transformation_matrix( q5, alpha5, a5, d5 )\n",
    "T5_6 = build_transformation_matrix( q6, alpha5, a5, d6 )\n",
    "T6_G = build_transformation_matrix( q7, alpha6, a6, d7 )\n"
   ]
  },
  {
   "cell_type": "markdown",
   "metadata": {},
   "source": [
    "Correct the Orientation difference between the definition of the gripper_link in the urdf-file and the Denavit-Hardenberg Convention.\n",
    "\n",
    "First apply a body-fixed rotation about the z-axis followed by a body-fixed rotation about the y-axis.\n",
    "\n",
    "R_corr is the composition of those two rotations."
   ]
  },
  {
   "cell_type": "code",
   "execution_count": 152,
   "metadata": {
    "collapsed": true
   },
   "outputs": [],
   "source": [
    "#Correct the Gripper\n",
    "R_z =  Matrix([[     cos(np.pi), -sin(np.pi),             0, 0],\n",
    "               [     sin(np.pi),  cos(np.pi),             0, 0],\n",
    "               [              0,           0,             1, 0],\n",
    "               [              0,           0,             0, 1]])\n",
    "\n",
    "R_y =  Matrix([[  cos(-np.pi/2),           0, sin(-np.pi/2), 0],\n",
    "               [              0,           1,             0, 0],\n",
    "               [ -sin(-np.pi/2),           0, cos(-np.pi/2), 0],\n",
    "               [              0,           0,             0, 1]])\n",
    "\n",
    "R_corr = simplify(R_z * R_y)"
   ]
  },
  {
   "cell_type": "markdown",
   "metadata": {},
   "source": [
    "Create individual transformation matrices"
   ]
  },
  {
   "cell_type": "code",
   "execution_count": 153,
   "metadata": {
    "scrolled": true
   },
   "outputs": [
    {
     "name": "stdout",
     "output_type": "stream",
     "text": [
      "T0_1 =  Matrix([[1.00000000000000, 0, 0, 0], [0, 1.00000000000000, 0, 0], [0, 0, 1.00000000000000, 0.750000000000000], [0, 0, 0, 1.00000000000000]]) \n",
      "\n",
      "T0_2 =  Matrix([\n",
      "[  0, 1.0,   0, 0.35],\n",
      "[  0,   0, 1.0,    0],\n",
      "[1.0,   0,   0, 0.75],\n",
      "[  0,   0,   0,  1.0]]) \n",
      "\n",
      "T0_3 =  Matrix([\n",
      "[  0, 1.0,   0, 0.35],\n",
      "[  0,   0, 1.0,    0],\n",
      "[1.0,   0,   0,  2.0],\n",
      "[  0,   0,   0,  1.0]]) \n",
      "\n",
      "T0_4 =  Matrix([\n",
      "[  0,    0, 1.0,  1.85],\n",
      "[  0, -1.0,   0,     0],\n",
      "[1.0,    0,   0, 1.946],\n",
      "[  0,    0,   0,   1.0]]) \n",
      "\n",
      "T0_5 =  Matrix([\n",
      "[  0, 1.0,   0,  1.85],\n",
      "[  0,   0, 1.0,     0],\n",
      "[1.0,   0,   0, 1.946],\n",
      "[  0,   0,   0,   1.0]]) \n",
      "\n",
      "T0_6 =  Matrix([\n",
      "[  0,    0, 1.0,  1.85],\n",
      "[  0, -1.0,   0,     0],\n",
      "[1.0,    0,   0, 1.946],\n",
      "[  0,    0,   0,   1.0]]) \n",
      "\n",
      "T0_G =  Matrix([\n",
      "[  0,    0, 1.0, 2.153],\n",
      "[  0, -1.0,   0,     0],\n",
      "[1.0,    0,   0, 1.946],\n",
      "[  0,    0,   0,   1.0]]) \n",
      "\n",
      "T0_G_corr =  Matrix([\n",
      "[                  1.0,                     0, 6.12323399573677e-17, 2.153],\n",
      "[-7.49879891330929e-33,                   1.0, 1.22464679914735e-16,     0],\n",
      "[-6.12323399573677e-17, -1.22464679914735e-16,                  1.0, 1.946],\n",
      "[                    0,                     0,                    0,   1.0]]) \n",
      "\n"
     ]
    }
   ],
   "source": [
    "# Create individual transformation matrices\n",
    "T0_2 = simplify(T0_1 * T1_2) # base_link to link_2\n",
    "T0_3 = simplify(T0_2 * T2_3) # base_link to link_3\n",
    "T0_4 = simplify(T0_3 * T3_4) # base_link to link_4\n",
    "T0_5 = simplify(T0_4 * T4_5) # base_link to link_5\n",
    "T0_6 = simplify(T0_5 * T5_6) # base_link to link_6\n",
    "T0_G = simplify(T0_6 * T6_G) # base_link to gripper_link\n",
    "T0_G_corr = simplify(T0_G * R_corr) # Total HT between base_link and gripper_link with orientation correction applied\n",
    "\n",
    "#T0_G = simplify(T0_1 * T1_2 * T2_3 * T3_4 * T4_5 * T5_6 * T6_G)\n",
    "sub_dict = { q1: -2.77, q2: 0.36, q3: -2.41, q4: 4.56, q5: 1.31, q6: 4.70 }\n",
    "sub_dict_zero = { q1: 0, q2: 0, q3: 0, q4: 0, q5: 0, q6: 0 }\n",
    "# Evaluate transforms\n",
    "print (\"T0_1 = \", T0_1.evalf(subs=sub_dict_zero),\"\\n\")\n",
    "print (\"T0_2 = \", T0_2.evalf(subs=sub_dict_zero),\"\\n\")\n",
    "print (\"T0_3 = \", T0_3.evalf(subs=sub_dict_zero),\"\\n\")\n",
    "print (\"T0_4 = \", T0_4.evalf(subs=sub_dict_zero),\"\\n\")\n",
    "print (\"T0_5 = \", T0_5.evalf(subs=sub_dict_zero),\"\\n\")\n",
    "print (\"T0_6 = \", T0_6.evalf(subs=sub_dict_zero),\"\\n\")\n",
    "print (\"T0_G = \", T0_G.evalf(subs=sub_dict_zero),\"\\n\")\n",
    "print  (\"T0_G_corr = \", T0_G_corr.evalf(subs=sub_dict_zero),\"\\n\")\n",
    "#print (\"T0_1 = \", T0_1,\"\\n\")\n",
    "#print (\"T0_2 = \", T0_2,\"\\n\")\n",
    "#print (\"T0_3 = \", T0_3,\"\\n\")\n",
    "#print (\"T0_4 = \", T0_4,\"\\n\")\n",
    "#print (\"T0_5 = \", T0_5,\"\\n\")\n",
    "#print (\"T0_6 = \", T0_6,\"\\n\")\n",
    "#print (\"T0_G = \", T0_G,\"\\n\")\n",
    "#print  (\"T0_G_corr = \", T0_G_corr,\"\\n\")"
   ]
  },
  {
   "cell_type": "markdown",
   "metadata": {},
   "source": [
    "Extract End-Effector position and orient from request\n",
    "Calculate joint angles using Geometric IK method"
   ]
  },
  {
   "cell_type": "code",
   "execution_count": 154,
   "metadata": {
    "collapsed": true
   },
   "outputs": [],
   "source": [
    "# Build a rotation matrix from the Roll, Pitch and Yaw angles\n",
    "def get_wrist_rot_matrix(roll, pitch, yaw):\n",
    "        \n",
    "    # Rrpy = Rx * Ry * Rz\n",
    "    Rrpy = Matrix([[    cos(yaw)*cos(pitch),   cos(yaw)*sin(pitch)*sin(roll) - sin(yaw)*cos(roll),    cos(yaw)*sin(pitch)*cos(roll) + sin(yaw)*sin(roll)],\n",
    "                   [    sin(yaw)*cos(pitch),   sin(yaw)*sin(pitch)*sin(roll) + cos(yaw)*cos(roll),    sin(yaw)*sin(pitch)*cos(roll) - cos(yaw)*sin(roll)],\n",
    "                   [            -sin(pitch),             cos(pitch)*sin(roll),                                       cos(pitch)*cos(roll)               ]])\n",
    "\n",
    "    print(\"Rrpy\", Rrpy)\n",
    "    return Rrpy"
   ]
  },
  {
   "cell_type": "markdown",
   "metadata": {},
   "source": [
    "Find the location of the WC relative to the base frame"
   ]
  },
  {
   "cell_type": "code",
   "execution_count": 206,
   "metadata": {
    "collapsed": true
   },
   "outputs": [],
   "source": [
    "def get_wrist_pos(px, py, pz, Rrpy):\n",
    "           \n",
    "    end_effector_length = 0.453\n",
    "    #end_effector_length = 0.303\n",
    "    \n",
    "    \n",
    "    lx = Rrpy[ 0, 0 ]\n",
    "    ly = Rrpy[ 1, 0 ]\n",
    "    lz = Rrpy[ 2, 0 ]\n",
    "\n",
    "    print(\"lx:\",lx,\" ly:\",ly,\" lz:\",lz)\n",
    "\n",
    "    d6 = 0\n",
    "\n",
    "    # Calculate Wrist Center\n",
    "    wx = px - ( end_effector_length + d6 ) * lx\n",
    "    wy = py - ( end_effector_length + d6 ) * ly\n",
    "    wz = pz - ( end_effector_length + d6 ) * lz\n",
    "    \n",
    "    # Modify Rrpy to take in transformation from gripper\n",
    "    Rrpy = Rrpy.row_join(Matrix([[px],[py],[pz]]))\n",
    "    Rrpy = Rrpy.col_join(Matrix([[0,0,0,1]]))\n",
    "\n",
    "    print(\"wx:\",wx,\" wy:\",wy,\" wz:\",wz)\n",
    "    print(\"Rrpy:\", Rrpy)\n",
    "    return wx, wy, wz, Rrpy\n"
   ]
  },
  {
   "cell_type": "code",
   "execution_count": 193,
   "metadata": {},
   "outputs": [
    {
     "name": "stdout",
     "output_type": "stream",
     "text": [
      "Rrpy Matrix([[1, 0, 0], [0, 1, 0], [0, 0, 1]])\n",
      "lx: 1  ly: 0  lz: 0\n",
      "wx: 1.84990000000000  wy: 0  wz: 1.94660000000000\n",
      "Rrpy: Matrix([[1, 0, 0, 2.30290000000000], [0, 1, 0, 0], [0, 0, 1, 1.94660000000000], [0, 0, 0, 1]])\n"
     ]
    }
   ],
   "source": [
    "Rrpy = get_wrist_rot_matrix(test_roll, test_pitch, test_yaw)\n",
    "wx, wy, wz, Rrpy = get_wrist_pos(test_pos_x, test_pos_y, test_pos_z, Rrpy)\n",
    "\n",
    "test_roll = 0\n",
    "test_pitch = 0\n",
    "test_yaw = 0\n",
    "test_pos_x = 2.3029\n",
    "test_pos_y = 0\n",
    "test_pos_z = 1.9466"
   ]
  },
  {
   "cell_type": "markdown",
   "metadata": {},
   "source": [
    "find joint variables, q1, q2 and q3, such that the WC has coordinates equal to equation (3). This is the hard step. One way to attack the problem is by repeatedly projecting links onto planes and using trigonometry to solve for joint angles. Unfortunately, there is no generic recipe that works for all manipulators so you will have to experiment."
   ]
  },
  {
   "cell_type": "code",
   "execution_count": 224,
   "metadata": {
    "collapsed": true
   },
   "outputs": [],
   "source": [
    "# Calculate joint angles using Geometric IK method\n",
    "def get_theta_123 (wx, wy, wz):\n",
    "    \n",
    "    theta1 = atan2(wy, wx)\n",
    "    a_1 = 0.35\n",
    "    a_2 = 1.25\n",
    "    d_1 = 0.75\n",
    "    d_4 = 1.50\n",
    "    a_3 = -0.054\n",
    "    \n",
    "    x_c = sqrt( wx**2 + wy**2 ) - a_1 # Subtract a1 as horizontal offset from robot-base\n",
    "    z_c = wz - d_1 # Subtract d1 as vertical offset from robot base\n",
    "\n",
    "    L_25 = sqrt(x_c**2 + z_c**2)\n",
    "    L_35 = sqrt(a_3**2+d_4**2)\n",
    "\n",
    "    cos_theta_3 = ( L_25**2 - a_2**2 - L_35**2) / ( 2 * a_2 * L_35 )\n",
    "    #theta3 = atan2( cos_theta_3, sqrt( 1 - cos_theta_3**2 ))\n",
    "    q3 = atan2( sqrt( 1 - cos_theta_3**2 ), cos_theta_3 )\n",
    "    theta3 = ( q3 - np.pi/2 ).evalf()\n",
    "    print(\"theta3: \", theta3)\n",
    "    theta3_alt = ( -q3 + np.pi/2 ).evalf()\n",
    "    print(\"theta3 alternative:\", theta3_alt)\n",
    "    \n",
    "    # theta2 = atan2( z_c, x_c ) - atan2(a_2*sin(theta3), a_2+L_35*cos(theta3))\n",
    "    # theta2b = atan2( z_c, x_c ) - atan2(a_2*sin(theta3b), a_2+L_35*cos(theta3b))\n",
    "    beta_2 = atan2( z_c, x_c )\n",
    "    cos_beta_1 = ( ( -L_35**2 + L_25**2 + a_2**2 ) / ( 2 * L_25 * a_2 ) )\n",
    "    beta_1 = atan2(  cos_beta_1, sqrt( 1 - cos_beta_1**2 ) ) \n",
    "    theta2 = np.pi/2 - beta_1 - beta_2\n",
    "\n",
    "    print(\"theta1,2,3:\",theta1, theta2, theta3)\n",
    "        \n",
    "    return theta1.evalf(), theta2.evalf(), theta3.evalf()"
   ]
  },
  {
   "cell_type": "code",
   "execution_count": 181,
   "metadata": {
    "collapsed": true
   },
   "outputs": [],
   "source": [
    "#theta1, theta2, theta3 = get_theta_123( test_wx, test_wy, test_wz )"
   ]
  },
  {
   "cell_type": "markdown",
   "metadata": {},
   "source": [
    "once the first three joint variables are known, calculate 03R via application of homogeneous transforms up to the WC."
   ]
  },
  {
   "cell_type": "code",
   "execution_count": 177,
   "metadata": {
    "collapsed": true
   },
   "outputs": [],
   "source": [
    "def transform_to_wc(theta1, theta2, theta3, Rrpy):\n",
    " \n",
    "    R0_3 = simplify( T0_1 * T1_2 * T2_3 )\n",
    "    #R0_3 = Matrix([[    sin(theta2 + theta3)*cos(theta1),   cos(theta1)*cos(theta2 + theta3),   -sin(theta1)],\n",
    "                   #[   sin(theta1)*sin(theta2 + theta3),   sin(theta1)*cos(theta2 + theta3),   cos(theta1)],\n",
    "                   #[   cos(theta2 + theta3),           -sin(theta2 + theta3),          0]])\n",
    "    print(\"R0_3:\", R0_3.evalf(subs={q1: theta1, q2: theta2, q3: theta3}))\n",
    "    R0_3 = R0_3.evalf(subs={q1: theta1, q2: theta2, q3: theta3})\n",
    "    R3_6_eval = R0_3.inv() * Rrpy\n",
    "    R3_6_var = simplify( T3_4 * T4_5 * T5_6 )\n",
    "    print(\"R3_6:\", R3_6_var)\n",
    "    return R3_6_var, R3_6_eval        "
   ]
  },
  {
   "cell_type": "code",
   "execution_count": 182,
   "metadata": {
    "collapsed": true
   },
   "outputs": [],
   "source": [
    "#R3_6_var, R3_6_eval = transform_to_wc( theta1, theta2, theta3, Rrpy )"
   ]
  },
  {
   "cell_type": "markdown",
   "metadata": {},
   "source": [
    "find a set of Euler angles corresponding to the rotation matrix"
   ]
  },
  {
   "cell_type": "code",
   "execution_count": 173,
   "metadata": {},
   "outputs": [
    {
     "name": "stdout",
     "output_type": "stream",
     "text": [
      "r13:  -sin(q5)*cos(q4)\n",
      "r23:  cos(q5)\n",
      "r33:  sin(q4)*sin(q5)\n",
      "sin(q5):  sqrt(sin(q4)**2*sin(q5)**2 + sin(q5)**2*cos(q4)**2)\n",
      "theta4, theta5, theta6:  0 2.71688678075291 3.14159265358979\n"
     ]
    }
   ],
   "source": [
    "def get_theta_456(R3_6_var, R3_6_eval):\n",
    "    r13 = R3_6_eval[0,2]\n",
    "    r33 = R3_6_eval[2,2]\n",
    "    r23 = R3_6_eval[1,2]\n",
    "    r22 = R3_6_eval[1,1]\n",
    "    r21 = R3_6_eval[1,0]\n",
    "    \n",
    "    print(\"r13: \", R3_6_var[0,2])\n",
    "    print(\"r23: \", R3_6_var[1,2])\n",
    "    print(\"r33: \", R3_6_var[2,2])    \n",
    "    sin_q5_var = sqrt(R3_6_var[0,2]**2 + R3_6_var[2,2]**2)\n",
    "    print(\"sin(q5): \", sin_q5_var)\n",
    "    # sin(q5)² * ( cos(q4)² + sin(q4)²)\n",
    "    # cos(q4)² + sin(q4)² = 1\n",
    "    # => sqrt(r13² + r33²) = sin(q5)\n",
    "    sin_q5 = sqrt(r13**2 + r33**2).evalf()\n",
    "           \n",
    "    theta5 = atan2( sin_q5, r23 ).evalf()\n",
    "    \n",
    "    if( sin_q5 < 0 ):\n",
    "        theta4 = atan2(-r33,  r13).evalf()\n",
    "        theta6 = atan2( r22, -r21).evalf()\n",
    "    else:\n",
    "        theta4 = atan2( r33,  -r13).evalf()\n",
    "        theta6 = atan2( -r22, r21).evalf()\n",
    "    \n",
    "    print(\"theta4, theta5, theta6: \",theta4, theta5, theta6)\n",
    "\n",
    "    \n",
    "    return theta4, theta5, theta6\n",
    "\n"
   ]
  },
  {
   "cell_type": "code",
   "execution_count": 183,
   "metadata": {
    "collapsed": true
   },
   "outputs": [],
   "source": [
    "#theta4, theta5, theta6 = get_theta_456( R3_6_var, R3_6_eval )"
   ]
  },
  {
   "cell_type": "code",
   "execution_count": 228,
   "metadata": {},
   "outputs": [
    {
     "name": "stdout",
     "output_type": "stream",
     "text": [
      "Rrpy Matrix([[-0.683461696574014, -0.562559850892265, 0.465195145589723], [0.366829637452813, 0.286281429692164, 0.885143468653330], [-0.631122909109160, 0.775609023398699, 0.0107012345132777]])\n",
      "lx: -0.683461696574014  ly: 0.366829637452813  lz: -0.631122909109160\n",
      "wx: 2.11060814854803  wy: 0.838826174233876  wz: 1.43389867782645\n",
      "Rrpy: Matrix([[-0.683461696574014, -0.562559850892265, 0.465195145589723, 1.80100000000000], [0.366829637452813, 0.286281429692164, 0.885143468653330, 1.00500000000000], [-0.631122909109160, 0.775609023398699, 0.0107012345132777, 1.14800000000000], [0, 0, 0, 1]])\n",
      "theta3:  -0.0916063373621652\n",
      "theta3 alternative: 0.0916063373621652\n",
      "theta1,2,3: 0.378291835266922 0.480647673672053 -0.0916063373621652\n",
      "R0_3: Matrix([\n",
      "[0.352483757447434,  0.859853406220867, -0.369333616864361, 0.862333555317037],\n",
      "[0.140088818449136,  0.341734463423921,  0.929296873692088, 0.342720157513704],\n",
      "[0.925273107618104, -0.379301563823215,                  0,  1.85836956818382],\n",
      "[                0,                  0,                  0,               1.0]])\n",
      "R3_6: Matrix([\n",
      "[-sin(q4)*sin(q6) + cos(q4)*cos(q5)*cos(q6), -sin(q4)*cos(q6) - sin(q6)*cos(q4)*cos(q5), -sin(q5)*cos(q4), -0.054],\n",
      "[                           sin(q5)*cos(q6),                           -sin(q5)*sin(q6),          cos(q5),    1.5],\n",
      "[-sin(q4)*cos(q5)*cos(q6) - sin(q6)*cos(q4),  sin(q4)*sin(q6)*cos(q5) - cos(q4)*cos(q6),  sin(q4)*sin(q5),      0],\n",
      "[                                         0,                                          0,                0,      1]])\n",
      "r13:  -sin(q5)*cos(q4)\n",
      "r23:  cos(q5)\n",
      "r33:  sin(q4)*sin(q5)\n",
      "sin(q5):  sqrt(sin(q4)**2*sin(q5)**2 + sin(q5)**2*cos(q4)**2)\n",
      "theta4, theta5, theta6:  2.00006844562338 0.797602364144892 1.88756336762247\n"
     ]
    }
   ],
   "source": [
    "Rrpy                                = get_wrist_rot_matrix(current_test_set[\"roll\"], current_test_set[\"pitch\"], current_test_set[\"yaw\"])\n",
    "test_wx,  test_wy,    test_wz, Rrpy = get_wrist_pos(current_test_set[\"xpos\"], current_test_set[\"ypos\"], current_test_set[\"zpos\"], Rrpy)\n",
    "theta1,   theta2,     theta3        = get_theta_123( test_wx, test_wy, test_wz )\n",
    "R3_6_var, R3_6_eval                 = transform_to_wc( theta1, theta2, theta3, Rrpy )\n",
    "theta4,   theta5,     theta6        = get_theta_456( R3_6_var, R3_6_eval )"
   ]
  },
  {
   "cell_type": "markdown",
   "metadata": {},
   "source": [
    "Test your IK based on your FK"
   ]
  },
  {
   "cell_type": "code",
   "execution_count": 229,
   "metadata": {},
   "outputs": [
    {
     "name": "stdout",
     "output_type": "stream",
     "text": [
      "---------------- input data ----------------\n",
      "px, py, pz:    1.801 1.005 1.148\n",
      "r , p , y :    1.557 0.683 2.649 \n",
      "\n",
      "--------------- wrist center ---------------\n",
      "WC_x:  2.11060814854803 expected:  1.8499\n",
      "WC_y:  0.838826174233876 expected:  0\n",
      "WC_z:  1.43389867782645 expected:  1.9466 \n",
      "\n",
      "--------------- joint angles ---------------\n",
      "theta 1: 0.378291835266922 expected:  0.4\n",
      "theta 2: 0.480647673672053 expected:  0.2\n",
      "theta 3: -0.0916063373621652 expected:  0.2\n",
      "theta 4: 2.00006844562338 expected:  1\n",
      "theta 5: 0.797602364144892 expected:  1\n",
      "theta 6: 1.88756336762247 expected:  1 \n",
      "\n",
      "--------------- final matrices ---------------\n",
      "R0_6:  Matrix([\n",
      "[-0.683461696574014, -0.562559850892265,  0.465195145589723,  2.13307954174618],\n",
      "[ 0.366829637452813,  0.286281429692164,   0.88514346865333, 0.847757056453333],\n",
      "[ -0.63112290910916,  0.775609023398699, 0.0107012345132779,  1.23945247463762],\n",
      "[                 0,                  0,                  0,               1.0]])\n",
      "Rrpy:  Matrix([[-0.683461696574014, -0.562559850892265, 0.465195145589723, 1.80100000000000], [0.366829637452813, 0.286281429692164, 0.885143468653330, 1.00500000000000], [-0.631122909109160, 0.775609023398699, 0.0107012345132777, 1.14800000000000], [0, 0, 0, 1.00000000000000]])\n"
     ]
    }
   ],
   "source": [
    "print(\"---------------- input data ----------------\")\n",
    "print(\"px, py, pz:   \", current_test_set[\"xpos\"], current_test_set[\"ypos\"], current_test_set[\"zpos\"])\n",
    "print(\"r , p , y :   \", current_test_set[\"roll\"], current_test_set[\"pitch\"], current_test_set[\"yaw\"],\"\\n\")\n",
    "print(\"--------------- wrist center ---------------\")\n",
    "print(\"WC_x: \", test_wx, \"expected: \", current_test_set[\"wcx_rviz\"])\n",
    "print(\"WC_y: \", test_wy, \"expected: \", current_test_set[\"wcy_rviz\"])\n",
    "print(\"WC_z: \", test_wz, \"expected: \", current_test_set[\"wcz_rviz\"],\"\\n\")\n",
    "print(\"--------------- joint angles ---------------\")\n",
    "print(\"theta 1:\", theta1, \"expected: \", current_test_set[\"theta1_rviz\"])\n",
    "print(\"theta 2:\", theta2, \"expected: \", current_test_set[\"theta2_rviz\"])\n",
    "print(\"theta 3:\", theta3, \"expected: \", current_test_set[\"theta3_rviz\"])\n",
    "print(\"theta 4:\", theta4, \"expected: \", current_test_set[\"theta4_rviz\"])\n",
    "print(\"theta 5:\", theta5, \"expected: \", current_test_set[\"theta5_rviz\"])\n",
    "print(\"theta 6:\", theta6, \"expected: \", current_test_set[\"theta6_rviz\"],\"\\n\")\n",
    "print(\"--------------- final matrices ---------------\")\n",
    "theta_values = { q1: theta1, q2: theta2, q3: theta3, q4: theta4, q5: theta5, q6: theta6 }\n",
    "print(\"R0_6: \", T0_6.evalf(subs=theta_values))\n",
    "print(\"Rrpy: \", Rrpy.evalf())"
   ]
  }
 ],
 "metadata": {
  "kernelspec": {
   "display_name": "Python 3",
   "language": "python",
   "name": "python3"
  },
  "language_info": {
   "codemirror_mode": {
    "name": "ipython",
    "version": 3
   },
   "file_extension": ".py",
   "mimetype": "text/x-python",
   "name": "python",
   "nbconvert_exporter": "python",
   "pygments_lexer": "ipython3",
   "version": "3.5.2"
  },
  "widgets": {
   "state": {},
   "version": "1.1.2"
  }
 },
 "nbformat": 4,
 "nbformat_minor": 2
}
