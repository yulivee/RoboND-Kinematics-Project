{
 "cells": [
  {
   "cell_type": "code",
   "execution_count": 1,
   "metadata": {
    "collapsed": true
   },
   "outputs": [],
   "source": [
    "import numpy as np\n",
    "from sympy import *\n",
    "from sympy.matrices import Matrix"
   ]
  },
  {
   "cell_type": "markdown",
   "metadata": {},
   "source": [
    "First we create the symbols to be used in our Denavit-Hardenberg Calculations"
   ]
  },
  {
   "cell_type": "code",
   "execution_count": 2,
   "metadata": {
    "collapsed": true
   },
   "outputs": [],
   "source": [
    "# Create symbols\n",
    "q1, q2, q3, q4, q5, q6, q7 = symbols('q1:8') # joint angle theta_i\n",
    "d1, d2, d3, d4, d5, d6, d7 = symbols('d1:8') # link offset\n",
    "a0, a1, a2, a3, a4, a5, a6 = symbols('a0:7') # link length\n",
    "alpha0, alpha1, alpha2, alpha3, alpha4, alpha5, alpha6 = symbols('alpha0:7') # twist angle"
   ]
  },
  {
   "cell_type": "markdown",
   "metadata": {},
   "source": [
    "Then create DH parameters"
   ]
  },
  {
   "cell_type": "code",
   "execution_count": 3,
   "metadata": {
    "collapsed": true
   },
   "outputs": [],
   "source": [
    "### KUKA KR210 ###\n",
    "# DH parameters\n",
    "s = {alpha0:     0,  a0:      0, d1:  0.75,  \n",
    "     alpha1: -pi/2,  a1:   0.35, d2:     0, q2: q2-pi/2, \n",
    "     alpha2:     0,  a2:   1.25, d3:     0,       \n",
    "     alpha3: -pi/2,  a3: -0.054, d4:  1.50,\n",
    "     alpha4:  pi/2,  a4:      0, d5:     0,\n",
    "     alpha5: -pi/2,  a5:      0, d6:     0,\n",
    "     alpha6:     0,  a6:      0, d7: 0.303, q7: 0}"
   ]
  },
  {
   "cell_type": "markdown",
   "metadata": {},
   "source": [
    "Next we define the transformation matrices from the base frame to the gripper frame."
   ]
  },
  {
   "cell_type": "code",
   "execution_count": 4,
   "metadata": {},
   "outputs": [
    {
     "name": "stdout",
     "output_type": "stream",
     "text": [
      "T0_1 Matrix([[cos(q1), -sin(q1), 0, 0], [sin(q1), cos(q1), 0, 0], [0, 0, 1, 0.750000000000000], [0, 0, 0, 1]])\n",
      "T1_2 Matrix([[sin(q2), cos(q2), 0, 0.350000000000000], [0, 0, 1, 0], [cos(q2), -sin(q2), 0, 0], [0, 0, 0, 1]])\n",
      "T2_3 Matrix([[cos(q3), -sin(q3), 0, 1.25000000000000], [sin(q3), cos(q3), 0, 0], [0, 0, 1, 0], [0, 0, 0, 1]])\n",
      "T3_4 Matrix([[cos(q4), -sin(q4), 0, -0.0540000000000000], [0, 0, 1, 1.50000000000000], [-sin(q4), -cos(q4), 0, 0], [0, 0, 0, 1]])\n",
      "T4_5 Matrix([[cos(q5), -sin(q5), 0, 0], [0, 0, -1, 0], [sin(q5), cos(q5), 0, 0], [0, 0, 0, 1]])\n",
      "T5_6 Matrix([[cos(q6), -sin(q6), 0, 0], [0, 0, 1, 0], [-sin(q6), -cos(q6), 0, 0], [0, 0, 0, 1]])\n",
      "T6_G Matrix([[1, 0, 0, 0], [0, 1, 0, 0], [0, 0, 1, 0.303000000000000], [0, 0, 0, 1]])\n"
     ]
    }
   ],
   "source": [
    "# Define Modified DH Transformation matrix\n",
    "def build_transformation_matrix( theta, alpha, a, d ):\n",
    "    T = Matrix([[            cos(theta),           -sin(theta),           0,             a ],\n",
    "                [ sin(theta)*cos(alpha), cos(theta)*cos(alpha), -sin(alpha), -sin(alpha)*d ],\n",
    "                [ sin(theta)*sin(alpha), cos(theta)*sin(alpha),  cos(alpha),  cos(alpha)*d ],\n",
    "                [                     0,                     0,           0,             1 ]]) \n",
    "    T = T.subs(s)\n",
    "       \n",
    "    return(T)\n",
    "\n",
    "# Modified DH params\n",
    "T0_1 = build_transformation_matrix( q1, alpha0, a0, d1 )\n",
    "T1_2 = build_transformation_matrix( q2, alpha1, a1, d2 )\n",
    "T2_3 = build_transformation_matrix( q3, alpha2, a2, d3 )\n",
    "T3_4 = build_transformation_matrix( q4, alpha3, a3, d4 )\n",
    "T4_5 = build_transformation_matrix( q5, alpha4, a4, d5 )\n",
    "T5_6 = build_transformation_matrix( q6, alpha5, a5, d6 )\n",
    "T6_G = build_transformation_matrix( q7, alpha6, a6, d7 )\n",
    "\n",
    "print(\"T0_1\", T0_1)\n",
    "print(\"T1_2\", T1_2)\n",
    "print(\"T2_3\", T2_3)\n",
    "print(\"T3_4\", T3_4)\n",
    "print(\"T4_5\", T4_5)\n",
    "print(\"T5_6\", T5_6)\n",
    "print(\"T6_G\", T6_G)"
   ]
  },
  {
   "cell_type": "markdown",
   "metadata": {},
   "source": [
    "Because of the differences between the Denavit-Hardenberg convention and the definition in the URDF-File, we must apply a correctional transform to the last frame to calculate the position in the world-frame. Therefore we first apply a body-fixed rotation around z, then a body-fixed rotation around y.\n",
    "\n",
    "R_corr is the composition of those two rotations."
   ]
  },
  {
   "cell_type": "code",
   "execution_count": 5,
   "metadata": {
    "collapsed": true
   },
   "outputs": [],
   "source": [
    "#Correct the Gripper\n",
    "R_z =  Matrix([[     cos(np.pi), -sin(np.pi),             0, 0],\n",
    "               [     sin(np.pi),  cos(np.pi),             0, 0],\n",
    "               [              0,           0,             1, 0],\n",
    "               [              0,           0,             0, 1]])\n",
    "\n",
    "R_y =  Matrix([[  cos(-np.pi/2),           0, sin(-np.pi/2), 0],\n",
    "               [              0,           1,             0, 0],\n",
    "               [ -sin(-np.pi/2),           0, cos(-np.pi/2), 0],\n",
    "               [              0,           0,             0, 1]])\n",
    "\n",
    "R_corr = simplify(R_z * R_y)"
   ]
  },
  {
   "cell_type": "markdown",
   "metadata": {},
   "source": [
    "Now we create individual transformation matrices from base_link to the current link."
   ]
  },
  {
   "cell_type": "code",
   "execution_count": 6,
   "metadata": {
    "collapsed": true,
    "scrolled": true
   },
   "outputs": [],
   "source": [
    "# Create individual transformation matrices\n",
    "T0_2 = simplify(T0_1 * T1_2) # base_link to link_2\n",
    "T0_3 = simplify(T0_2 * T2_3) # base_link to link_3\n",
    "T0_4 = simplify(T0_3 * T3_4) # base_link to link_4\n",
    "T0_5 = simplify(T0_4 * T4_5) # base_link to link_5\n",
    "T0_6 = simplify(T0_5 * T5_6) # base_link to link_6\n",
    "T0_G = simplify(T0_6 * T6_G) # base_link to gripper_link\n",
    "T0_G_corr = simplify(T0_G * R_corr) # Total HT between base_link and gripper_link with orientation correction applied\n",
    "\n"
   ]
  },
  {
   "cell_type": "markdown",
   "metadata": {},
   "source": [
    "We extract the end-effector position and orient from the request in ROS. In this notebook, those values are given from the test-dataset. From the given roll, pitch and yaw angles we can calculate a transformation matrix Rrpy which describes the current position and orientation.\n",
    "\n",
    "Rrpy is a Matrix calculated from a rotation Rz \\* Ry \\* Rx"
   ]
  },
  {
   "cell_type": "code",
   "execution_count": 7,
   "metadata": {},
   "outputs": [
    {
     "name": "stdout",
     "output_type": "stream",
     "text": [
      "Matrix([\n",
      "[cos(q2)*cos(q3), sin(q1)*sin(q2)*cos(q3) - sin(q3)*cos(q1),  sin(q1)*sin(q3) + sin(q2)*cos(q1)*cos(q3)],\n",
      "[sin(q3)*cos(q2), sin(q1)*sin(q2)*sin(q3) + cos(q1)*cos(q3), -sin(q1)*cos(q3) + sin(q2)*sin(q3)*cos(q1)],\n",
      "[       -sin(q2),                           sin(q1)*cos(q2),                            cos(q1)*cos(q2)]])\n"
     ]
    }
   ],
   "source": [
    "# Build a rotation matrix from the Roll, Pitch and Yaw angles\n",
    "def get_wrist_rot_matrix(roll, pitch, yaw):\n",
    "    \n",
    "    # Rrpy = Rz * Ry * Rx\n",
    "    R_z =  Matrix([[     cos(yaw), -sin(yaw),             0],\n",
    "                   [     sin(yaw),  cos(yaw),             0],\n",
    "                   [              0,           0,             1]])\n",
    "\n",
    "    R_y =  Matrix([[  cos(pitch),           0, sin(pitch)],\n",
    "                   [              0,           1,             0],\n",
    "                   [ -sin(pitch),           0, cos(pitch)]])\n",
    "    \n",
    "    R_x = Matrix([[ 1,              0,        0],\n",
    "                  [ 0,        cos(roll), -sin(roll)],\n",
    "                  [ 0,        sin(roll),  cos(roll)]])\n",
    "     \n",
    "    Rrpy = simplify ( R_z * R_y * R_x )\n",
    "    \n",
    "    return Rrpy\n",
    "\n",
    "Rrpy = get_wrist_rot_matrix(q1, q2, q3)\n",
    "print(Rrpy)"
   ]
  },
  {
   "cell_type": "markdown",
   "metadata": {},
   "source": [
    "With Rrpy we can find the location of the wrist center (WC) relative to the base frame. \n",
    "\n",
    "l (column 1 of Rrpy) is the vector along gripper_link x-axis.\n",
    "\n",
    "The end_effector_length is the distance between joint 5 and the tip of the gripper fingers. \n",
    "\n",
    "Finally we extend Rrpy with the given positions of the gripper to create a 4x4 transformation matrix we can later use in calculations."
   ]
  },
  {
   "cell_type": "code",
   "execution_count": 8,
   "metadata": {},
   "outputs": [
    {
     "name": "stdout",
     "output_type": "stream",
     "text": [
      "Matrix([\n",
      "[cos(q2)*cos(q3), sin(q1)*sin(q2)*cos(q3) - sin(q3)*cos(q1),  sin(q1)*sin(q3) + sin(q2)*cos(q1)*cos(q3), 0],\n",
      "[sin(q3)*cos(q2), sin(q1)*sin(q2)*sin(q3) + cos(q1)*cos(q3), -sin(q1)*cos(q3) + sin(q2)*sin(q3)*cos(q1), 0],\n",
      "[       -sin(q2),                           sin(q1)*cos(q2),                            cos(q1)*cos(q2), 0],\n",
      "[              0,                                         0,                                          0, 1]])\n"
     ]
    }
   ],
   "source": [
    "def get_wrist_pos(px, py, pz, Rrpy):\n",
    "           \n",
    "    #end_effector_length = 0.453\n",
    "    end_effector_length = 0.303\n",
    "    \n",
    "    \n",
    "    lx = Rrpy[ 0, 0 ]\n",
    "    ly = Rrpy[ 1, 0 ]\n",
    "    lz = Rrpy[ 2, 0 ]\n",
    "\n",
    "    d6 = 0\n",
    "\n",
    "    # Calculate Wrist Center\n",
    "    wx = px - ( end_effector_length + d6 ) * lx\n",
    "    wy = py - ( end_effector_length + d6 ) * ly\n",
    "    wz = pz - ( end_effector_length + d6 ) * lz\n",
    "    \n",
    "    # Modify Rrpy to take in the transformation from gripper\n",
    "    Rrpy = Rrpy.row_join(Matrix([[px],[py],[pz]]))\n",
    "    Rrpy = Rrpy.col_join(Matrix([[0,0,0,1]]))\n",
    "\n",
    "    return wx, wy, wz, Rrpy\n",
    "\n",
    "wx, wy, wz, Rrpy = get_wrist_pos( 0, 0, 0, Rrpy)\n",
    "print(Rrpy)"
   ]
  },
  {
   "cell_type": "markdown",
   "metadata": {},
   "source": [
    "Next we find joint variables, theta1, theta2 and theta3.\n",
    "\n",
    "For Theta 1 we can just take the x and y coordinates we calculated for the wrist center and derive theta1 from tha atan2-function.\n",
    "![Deriving Theta 1](writeup_images/theta1.png)\n",
    "\n",
    "\n",
    "Theta 2 is a bit trickier. First, we calculate the wrist center coordinates to match the origin of Frame O_1. Therefor we substract a1 as a horizontal offset from x1 and d1 as a vertical offset from z1. With those new coordinates, we can calculate the distance from Joint2 to Joint5: L25. With the fixed length a3 and d4 we can calculate the distance from Joint3 to Joint5: L35.\n",
    "\n",
    "Now width the arm-length a2, L25 and L35 we have our triangle and are ready to perform trigonometric calculations. First we calculate the angle *beta2* between a2 and L25 with atan2. For *beta1* we use the cosine-law. As theta2 has a minus 90° Offset, we now have to subtract those two angles from 90°.\n",
    "![Deriving Theta 2](writeup_images/theta2.png)\n",
    "\n",
    "For theta3 we can use the already calculated L35 length along with a3 and d4 to calculate a fixed offset angle *beta4*. Additionally, we use the cosine law again to calculate the angle between a2 and L35. To derive theta3 we have to subtract beta3 and beta 4 from the 90° between a2 and d4.\n",
    "![Deriving Theta 3](writeup_images/theta3.png)"
   ]
  },
  {
   "cell_type": "code",
   "execution_count": 9,
   "metadata": {},
   "outputs": [
    {
     "name": "stdout",
     "output_type": "stream",
     "text": [
      "-0.650933574600653 0.448192818182759 -0.362059820437478\n"
     ]
    }
   ],
   "source": [
    "# Calculate joint angles using Geometric IK method\n",
    "def get_theta_123 (wx, wy, wz):\n",
    "    \n",
    "    theta1 = atan2(wy, wx).evalf()\n",
    "    \n",
    "    a_1 = 0.35\n",
    "    a_2 = 1.25\n",
    "    d_1 = 0.75\n",
    "    d_4 = 1.50\n",
    "    a_3 = -0.054\n",
    "    \n",
    "  \n",
    "    r = sqrt( wx**2 + wy**2 ) - a_1\n",
    "    z_c = wz - d_1 # Subtract d1 as vertical offset from robot base\n",
    "\n",
    "    \n",
    "    \n",
    "    L_25 = sqrt( r**2 + z_c**2 )\n",
    "    L_35 = sqrt( a_3**2 + d_4**2 )\n",
    "      \n",
    "    beta_2 = atan2( z_c, r )\n",
    "    cos_beta_1 = ( ( L_35**2 - L_25**2 - a_2**2 ) / ( - 2 * L_25 * a_2 ) )\n",
    "    beta_1 = atan2(  sqrt( 1 - cos_beta_1**2 ),  cos_beta_1 ) \n",
    "    # this would be the flipped over position, but we will not reach it in this project\n",
    "    #beta_12 = atan2(  - sqrt( 1 - cos_beta_1**2 ), cos_beta_1 ) \n",
    "\n",
    "    theta2 = np.pi/2 - beta_1 - beta_2\n",
    "    \n",
    "    beta_4 = atan2( -a_3, d_4 )\n",
    "    cos_beta_3 = ( L_25**2 - a_2**2 - L_35**2 ) / ( -2 * a_2 * L_35 )\n",
    "    beta_3 = atan2( sqrt( 1 - cos_beta_3**2 ), cos_beta_3 )\n",
    "    # this would be the flipped over position, but we will not reach it in this project\n",
    "    #beta_32 = atan2( - sqrt( 1 - cos_theta_3**2 ), cos_theta_3 )\n",
    "    \n",
    "    theta3 = np.pi/2 - beta_3 - beta_4\n",
    "        \n",
    "    return theta1.evalf(), theta2.evalf(), theta3.evalf()\n",
    "\n",
    "theta1, theta2, theta3 = get_theta_123( 1.8945, -1.4430, 1.6937 )\n",
    "print(theta1, theta2, theta3)"
   ]
  },
  {
   "cell_type": "markdown",
   "metadata": {},
   "source": [
    "Once the first three joint variables are known, we calculate R0_3 via application of homogeneous transforms up to the WC. Then we calculate the R3_6_var Matrix, which contains the remaining unknown thetas 4-6.\n",
    "\n",
    "By multiplying the inverse of R0_3 with Rrpy we can retrieve R3_6_eval, which contains numerical values. This is important for the next step, where we use those two matrices to generate equations to solve for the thetas."
   ]
  },
  {
   "cell_type": "code",
   "execution_count": 10,
   "metadata": {
    "collapsed": true
   },
   "outputs": [],
   "source": [
    "def transform_to_wc(theta1, theta2, theta3, Rrpy):\n",
    " \n",
    "    R0_3 = simplify( T0_1 * T1_2 * T2_3 )\n",
    "    R0_3 = R0_3.evalf(subs={q1: theta1, q2: theta2, q3: theta3})\n",
    "    R3_6_eval = R0_3.inv() * Rrpy * R_corr\n",
    "    R3_6_var = simplify( T3_4 * T4_5 * T5_6 )\n",
    "    \n",
    "    return R3_6_var, R3_6_eval        "
   ]
  },
  {
   "cell_type": "markdown",
   "metadata": {},
   "source": [
    "To get the composite rotation matrix R3_6 we multiply the precalculated T3_4, T4_5 and T5_6.\n",
    "![Deriving R3_6](writeup_images/R3_6.png)"
   ]
  },
  {
   "cell_type": "code",
   "execution_count": 11,
   "metadata": {},
   "outputs": [
    {
     "name": "stdout",
     "output_type": "stream",
     "text": [
      "R3_6: Matrix([\n",
      "[-sin(q4)*sin(q6) + cos(q4)*cos(q5)*cos(q6), -sin(q4)*cos(q6) - sin(q6)*cos(q4)*cos(q5), -sin(q5)*cos(q4), -0.054],\n",
      "[                           sin(q5)*cos(q6),                           -sin(q5)*sin(q6),          cos(q5),    1.5],\n",
      "[-sin(q4)*cos(q5)*cos(q6) - sin(q6)*cos(q4),  sin(q4)*sin(q6)*cos(q5) - cos(q4)*cos(q6),  sin(q4)*sin(q5),      0],\n",
      "[                                         0,                                          0,                0,      1]])\n"
     ]
    }
   ],
   "source": [
    "R3_6_var, R3_6_eval = transform_to_wc( theta1, theta2, theta3, Rrpy )\n",
    "print(\"R3_6:\", R3_6_var)"
   ]
  },
  {
   "cell_type": "markdown",
   "metadata": {},
   "source": [
    "From this matrix we choose r_ij to calculate our angles. Those are the r_ji I choose for my calculations:"
   ]
  },
  {
   "cell_type": "code",
   "execution_count": 12,
   "metadata": {},
   "outputs": [
    {
     "name": "stdout",
     "output_type": "stream",
     "text": [
      "r12 =  -sin(q4)*cos(q6) - sin(q6)*cos(q4)*cos(q5)\n",
      "r13 =  -sin(q5)*cos(q4)\n",
      "r21 =  sin(q5)*cos(q6)\n",
      "r22 =  -sin(q5)*sin(q6)\n",
      "r23 =  cos(q5)\n",
      "r32 =  sin(q4)*sin(q6)*cos(q5) - cos(q4)*cos(q6)\n",
      "r33 =  sin(q4)*sin(q5)\n"
     ]
    }
   ],
   "source": [
    "print(\"r12 = \", R3_6_var[0,1])\n",
    "print(\"r13 = \", R3_6_var[0,2])\n",
    "print(\"r21 = \", R3_6_var[1,0])\n",
    "print(\"r22 = \", R3_6_var[1,1])\n",
    "print(\"r23 = \", R3_6_var[1,2])\n",
    "print(\"r32 = \", R3_6_var[2,1])\n",
    "print(\"r33 = \", R3_6_var[2,2])"
   ]
  },
  {
   "cell_type": "markdown",
   "metadata": {},
   "source": [
    "Now we find a set of Euler angles corresponding to the rotation matrix.\n",
    "\n",
    "We start with Theta 5 as r23 contains an isolated cos(q5). to get sin(q5) we calculate sqrt(r13^2 + r33^2), as they contain sin(q4) and cos(q4). Those combined equate to 1 and only leave sin(q5) remaining.\n",
    "![Deriving Theta 5](writeup_images/theta5.png)\n",
    "\n",
    "Now that we have q5 calculated, we can choose r_ij containing only q4 and q5 to calculate theta4.\n",
    "![Deriving Theta 4](writeup_images/theta4.png)\n",
    "\n",
    "And we can choose r_ij containing only q6 and q5 to calculate theta6.\n",
    "![Deriving Theta 6](writeup_images/theta6.png)\n",
    "\n",
    "There is just one problem left: if q5 = 0, we cannot use r33 and r13 to calculate theta4 and r22 and r21 to calculate theta6. In this case I set theta5 to 0, theta6 to its last known value and calculate theta4 using r12 and r32"
   ]
  },
  {
   "cell_type": "code",
   "execution_count": 13,
   "metadata": {},
   "outputs": [],
   "source": [
    "last_t4 = 0.1\n",
    "last_t5 = 0.1\n",
    "last_t6 = 0.1\n",
    "\n",
    "def get_theta_456(R3_6_var, R3_6_eval):\n",
    "    r12 = R3_6_eval[0,1]\n",
    "    r13 = R3_6_eval[0,2]\n",
    "    r21 = R3_6_eval[1,0]\n",
    "    r22 = R3_6_eval[1,1]\n",
    "    r23 = R3_6_eval[1,2]\n",
    "    r32 = R3_6_eval[2,1]\n",
    "    r33 = R3_6_eval[2,2]\n",
    "\n",
    "    # when theta5 is 0 we encounter a wrist singularity and cannot obtain theta4 and theta6 from r33/r13 r22/r21\n",
    "    # in this case we set theta6 to its last value, theta 5 to zero and calculate theta4 in correspondence to theta6\n",
    "    # Hint from @gwwang in slack channel\n",
    "    if np.abs(r23) is not 1:\n",
    "            sin_q5 = sqrt(r13**2 + r33**2).evalf()\n",
    "            theta5 = atan2( sin_q5, r23 ).evalf()\n",
    "            if( sin_q5 < 0 ):\n",
    "                theta4 = atan2( -r33,  r13).evalf()\n",
    "                theta6 = atan2(  r22, -r21).evalf()\n",
    "            else:\n",
    "                theta4 = atan2(  r33, -r13).evalf()\n",
    "                theta6 = atan2( -r22,  r21).evalf()\n",
    "    else:\n",
    "        theta6 = self.last_t6\n",
    "        if ( r23 == 1  ):  \n",
    "            theta5 = 0 \n",
    "            theta4 = -theta6 + atan2( -r12,  -r32).evalf()\n",
    "        else:\n",
    "            theta5 = 0 \n",
    "            theta4 = theta6 + atan2( r12,  -r32).evalf()\n",
    "            \n",
    "        last_t4 = theta4\n",
    "        last_t5 = theta5\n",
    "        last_t6 = theta6\n",
    "            \n",
    "    return theta4, theta5, theta6   "
   ]
  },
  {
   "cell_type": "markdown",
   "metadata": {},
   "source": [
    "Now that we have all our values calculated, lets see what we can derive from the test-data.\n",
    "This is some test-input data for verifying the Inverse Kinematics using Forward Kinematics."
   ]
  },
  {
   "cell_type": "code",
   "execution_count": 14,
   "metadata": {
    "collapsed": true
   },
   "outputs": [],
   "source": [
    "test_set_1 = { \"xpos\" : 2.16135, \"ypos\" : -1.42635, \"zpos\" : 1.5511, \n",
    "               \"roll\" : 1.6544,  \"pitch\" : 0.4899, \"yaw\" : 0.0624, \n",
    "               \"theta1_rviz\" : -0.65, \"theta2_rviz\" : -0.65, \"theta3_rviz\" : -0.65, \n",
    "               \"theta4_rviz\" : 0.95, \"theta5_rviz\" : 0.79, \"theta6_rviz\" : 0.49,\n",
    "               \"wcx_rviz\" : 1.89451, \"wcy_rviz\" : -1.44302, \"wcz_rviz\" : 1.6937,}\n",
    "\n",
    "# Choose current set of test data\n",
    "current_test_set = test_set_1"
   ]
  },
  {
   "cell_type": "code",
   "execution_count": 15,
   "metadata": {},
   "outputs": [],
   "source": [
    "Rrpy                                = get_wrist_rot_matrix(current_test_set[\"roll\"], current_test_set[\"pitch\"], current_test_set[\"yaw\"])\n",
    "test_wx,  test_wy,    test_wz, Rrpy = get_wrist_pos(current_test_set[\"xpos\"], current_test_set[\"ypos\"], current_test_set[\"zpos\"], Rrpy)\n",
    "theta1,   theta2,     theta3        = get_theta_123( test_wx, test_wy, test_wz )\n",
    "R3_6_var, R3_6_eval                 = transform_to_wc( theta1, theta2, theta3, Rrpy )\n",
    "theta4,   theta5,     theta6        = get_theta_456( R3_6_var, R3_6_eval )\n"
   ]
  },
  {
   "cell_type": "markdown",
   "metadata": {},
   "source": [
    "And now for we compare the calculated values against expected values from the sim"
   ]
  },
  {
   "cell_type": "code",
   "execution_count": 16,
   "metadata": {},
   "outputs": [
    {
     "name": "stdout",
     "output_type": "stream",
     "text": [
      "---------------- input data ----------------\n",
      "px, py, pz:  2.1614  -1.4264   1.5511\n",
      "r , p , y :  1.6544   0.4899   0.0624\n",
      "\n",
      "--------------- wrist center ---------------\n",
      "WC_x:  1.8945 expected:  1.8945\n",
      "WC_y: -1.4430 expected: -1.4430\n",
      "WC_z:  1.6937 expected:  1.6937 \n",
      "\n",
      "--------------- joint angles ---------------\n",
      "theta 1: -0.6509 expected: -0.6500\n",
      "theta 2:  0.4482 expected: -0.6500\n",
      "theta 3: -0.3621 expected: -0.6500\n",
      "theta 4:  0.0396 expected:  0.9500\n",
      "theta 5:  1.4515 expected:  0.7900\n",
      "theta 6:  0.7225 expected:  0.4900 \n",
      "\n",
      "--------------- final matrices ---------------\n",
      "T0_G_corr:  Matrix([\n",
      "[ 0.050275514095821,  0.980077184976624,    0.192148599190047,  1.90974271711526],\n",
      "[0.0111644382669818,  0.191828370220246,   -0.981364983936571, -1.43963968405929],\n",
      "[-0.998672983513915, 0.0514838602567926, -0.00129774129756247,  1.39107499471257],\n",
      "[                 0,                  0,                    0,               1.0]])\n",
      "Rrpy:  Matrix([\n",
      "[ 0.880662586322695,    0.47318900979889,  0.0229253147626878,  2.16135],\n",
      "[0.0550247816969829, -0.0541037781760871,  -0.997018081373789, -1.42635],\n",
      "[-0.470537652532315,   0.879297982593284, -0.0736842951839776,   1.5511],\n",
      "[                 0,                   0,                   0,      1.0]])\n"
     ]
    }
   ],
   "source": [
    "print(\"---------------- input data ----------------\")\n",
    "print(\"px, py, pz: %7.4f  %7.4f  %7.4f\"%  ( current_test_set[\"xpos\"], current_test_set[\"ypos\"], current_test_set[\"zpos\"] ) )\n",
    "print(\"r , p , y : %7.4f  %7.4f  %7.4f\"%  ( current_test_set[\"roll\"], current_test_set[\"pitch\"], current_test_set[\"yaw\"]) )\n",
    "print(\"\")\n",
    "print(\"--------------- wrist center ---------------\")\n",
    "print(\"WC_x: %7.4f\"% test_wx, \"expected: %7.4f\"% current_test_set[\"wcx_rviz\"])\n",
    "print(\"WC_y: %7.4f\"% test_wy, \"expected: %7.4f\"% current_test_set[\"wcy_rviz\"])\n",
    "print(\"WC_z: %7.4f\"% test_wz, \"expected: %7.4f\"% current_test_set[\"wcz_rviz\"],\"\\n\")\n",
    "print(\"--------------- joint angles ---------------\")\n",
    "print(\"theta 1: %7.4f\"% theta1, \"expected: %7.4f\"% current_test_set[\"theta1_rviz\"])\n",
    "print(\"theta 2: %7.4f\"% theta2, \"expected: %7.4f\"% current_test_set[\"theta2_rviz\"])\n",
    "print(\"theta 3: %7.4f\"% theta3, \"expected: %7.4f\"% current_test_set[\"theta3_rviz\"])\n",
    "print(\"theta 4: %7.4f\"% theta4, \"expected: %7.4f\"% current_test_set[\"theta4_rviz\"])\n",
    "print(\"theta 5: %7.4f\"% theta5, \"expected: %7.4f\"% current_test_set[\"theta5_rviz\"])\n",
    "print(\"theta 6: %7.4f\"% theta6, \"expected: %7.4f\"% current_test_set[\"theta6_rviz\"],\"\\n\")\n",
    "print(\"--------------- final matrices ---------------\")\n",
    "theta_values = { q1: theta1, q2: theta2, q3: theta3, q4: theta4, q5: theta5, q6: theta6 }\n",
    "print(\"T0_G_corr: \", T0_G_corr.evalf(subs=theta_values))\n",
    "print(\"Rrpy: \", Rrpy.evalf())"
   ]
  },
  {
   "cell_type": "markdown",
   "metadata": {},
   "source": [
    "Project structure for running `IK_server.py`\n",
    "\n",
    "To save some time on matrix calculations I introduced to new python classes:\n",
    "\n",
    "*Forward_Kinematics.py*: This class is created when `IK_server.py` is started. On instantiation (`__init__`) it performs the matrix calculations needed for the transformation matrices. Its main function is to precalculate CPU-heavy operations and hand over the results of this transformation to the Inverse_Kinematics-Class. It contains the following functions you have already seen in this notebook:\n",
    "- `get_gripper_correction`\n",
    "- `build_transformation_matrix`\n",
    "\n",
    "*Inverse_Kinematics.py*: This class is created once per joint-angle calculation. With the information given by the Forward_Kinematics-Class, it calculates Rrpy, the wrist center and the joint angles.Rrpy is calculated and modified completely inside this class, so get_wrist_rot_matrix does not return anything and get_wrist_pos does neither take Rrpy as input, nor does it return it. Inverse_Kinematics contains the following functions you have already seen in this notebook:\n",
    "- `get_wrist_rot_matrix`\n",
    "- `get_wrist_pos`\n",
    "- `get_theta_123`\n",
    "- `transform_to_wc`\n",
    "- `get_theta_456`"
   ]
  },
  {
   "cell_type": "code",
   "execution_count": 17,
   "metadata": {},
   "outputs": [
    {
     "ename": "SyntaxError",
     "evalue": "invalid syntax (<ipython-input-17-a128b681c636>, line 1)",
     "output_type": "error",
     "traceback": [
      "\u001b[0;36m  File \u001b[0;32m\"<ipython-input-17-a128b681c636>\"\u001b[0;36m, line \u001b[0;32m1\u001b[0m\n\u001b[0;31m    `\u001b[0m\n\u001b[0m    ^\u001b[0m\n\u001b[0;31mSyntaxError\u001b[0m\u001b[0;31m:\u001b[0m invalid syntax\n"
     ]
    }
   ],
   "source": []
  }
 ],
 "metadata": {
  "kernelspec": {
   "display_name": "Python 3",
   "language": "python",
   "name": "python3"
  },
  "language_info": {
   "codemirror_mode": {
    "name": "ipython",
    "version": 3
   },
   "file_extension": ".py",
   "mimetype": "text/x-python",
   "name": "python",
   "nbconvert_exporter": "python",
   "pygments_lexer": "ipython3",
   "version": "3.5.2"
  },
  "widgets": {
   "state": {},
   "version": "1.1.2"
  }
 },
 "nbformat": 4,
 "nbformat_minor": 2
}
