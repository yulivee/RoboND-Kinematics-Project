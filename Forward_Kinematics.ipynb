{
 "cells": [
  {
   "cell_type": "code",
   "execution_count": 40,
   "metadata": {
    "collapsed": true
   },
   "outputs": [],
   "source": [
    "import numpy as np\n",
    "from sympy import *\n",
    "from sympy.matrices import Matrix"
   ]
  },
  {
   "cell_type": "markdown",
   "metadata": {},
   "source": [
    "First create the symbols"
   ]
  },
  {
   "cell_type": "code",
   "execution_count": 41,
   "metadata": {
    "collapsed": true
   },
   "outputs": [],
   "source": [
    "# Create symbols\n",
    "q1, q2, q3, q4, q5, q6, q7 = symbols('q1:8') #theta_i\n",
    "d1, d2, d3, d4, d5, d6, d7 = symbols('d1:8')\n",
    "a0, a1, a2, a3, a4, a5, a6 = symbols('a0:7')\n",
    "alpha0, alpha1, alpha2, alpha3, alpha4, alpha5, alpha6 = symbols('alpha0:7')"
   ]
  },
  {
   "cell_type": "markdown",
   "metadata": {},
   "source": [
    "Then create modified DH parameters"
   ]
  },
  {
   "cell_type": "code",
   "execution_count": 42,
   "metadata": {
    "collapsed": true
   },
   "outputs": [],
   "source": [
    "### KUKA KR210 ###\n",
    "# Create Modified DH parameters\n",
    "s = {alpha0:     0,  a0:      0, d1:  0.75,  \n",
    "     alpha1: -pi/2,  a1:   0.35, d2:     0, q2: q2-pi/2, \n",
    "     alpha2:     0,  a2:   1.25, d3:     0,       \n",
    "     alpha3: -pi/2,  a3: -0.054, d4:  1.50,\n",
    "     alpha4:  pi/2,  a4:      0, d5:     0,\n",
    "     alpha5: -pi/2,  a5:      0, d6:     0,\n",
    "     alpha6:     0,  a6:      0, d7: 0.303, q7: 0}\n"
   ]
  },
  {
   "cell_type": "markdown",
   "metadata": {},
   "source": [
    "Define the transformation matrix"
   ]
  },
  {
   "cell_type": "code",
   "execution_count": 43,
   "metadata": {
    "collapsed": true
   },
   "outputs": [],
   "source": [
    "# Define Modified DH Transformation matrix\n",
    "# base_link to link1\n",
    "T0_1 = Matrix([[             cos(q1),            -sin(q1),            0,              a0],\n",
    "               [ sin(q1)*cos(alpha0), cos(q1)*cos(alpha0), -sin(alpha0), -sin(alpha0)*d1],\n",
    "               [ sin(q1)*sin(alpha0), cos(q1)*sin(alpha0),  cos(alpha0),  cos(alpha0)*d1],\n",
    "               [                   0,                   0,            0,               1]])\n",
    "T0_1 = T0_1.subs(s)\n",
    "\n",
    "T1_2 = Matrix([[             cos(q2),            -sin(q2),            0,              a1],\n",
    "               [ sin(q2)*cos(alpha1), cos(q2)*cos(alpha1), -sin(alpha1), -sin(alpha1)*d2],\n",
    "               [ sin(q2)*sin(alpha1), cos(q2)*sin(alpha1),  cos(alpha1),  cos(alpha1)*d2],\n",
    "               [                   0,                   0,            0,               1]])\n",
    "T1_2 = T1_2.subs(s)\n",
    "\n",
    "T2_3 = Matrix([[             cos(q3),            -sin(q3),            0,              a2],\n",
    "               [ sin(q3)*cos(alpha2), cos(q3)*cos(alpha2), -sin(alpha2), -sin(alpha2)*d3],\n",
    "               [ sin(q3)*sin(alpha2), cos(q3)*sin(alpha2),  cos(alpha2),  cos(alpha2)*d3],\n",
    "               [                   0,                   0,            0,               1]])\n",
    "T2_3 = T2_3.subs(s)\n",
    "\n",
    "T3_4 = Matrix([[             cos(q4),            -sin(q4),            0,              a3],\n",
    "               [ sin(q4)*cos(alpha3), cos(q4)*cos(alpha3), -sin(alpha3), -sin(alpha3)*d4],\n",
    "               [ sin(q4)*sin(alpha3), cos(q4)*sin(alpha3),  cos(alpha3),  cos(alpha3)*d4],\n",
    "               [                   0,                   0,            0,               1]])\n",
    "T3_4 = T3_4.subs(s)\n",
    "T4_5 = Matrix([[             cos(q5),            -sin(q5),            0,              a4],\n",
    "               [ sin(q5)*cos(alpha4), cos(q5)*cos(alpha4), -sin(alpha4), -sin(alpha4)*d5],\n",
    "               [ sin(q5)*sin(alpha4), cos(q5)*sin(alpha4),  cos(alpha4),  cos(alpha4)*d5],                                                                                                           \n",
    "               [                   0,                   0,            0,               1]])\n",
    "T4_5 = T4_5.subs(s)\n",
    "T5_6 = Matrix([[             cos(q6),            -sin(q6),            0,              a5],\n",
    "               [ sin(q6)*cos(alpha5), cos(q6)*cos(alpha5), -sin(alpha5), -sin(alpha5)*d6],\n",
    "               [ sin(q6)*sin(alpha5), cos(q6)*sin(alpha5),  cos(alpha5),  cos(alpha5)*d6],                                                                                                           \n",
    "               [                   0,                   0,            0,               1]])\n",
    "T5_6 = T5_6.subs(s)\n",
    "T6_G = Matrix([[             cos(q7),            -sin(q7),            0,              a6],                                                                                                           \n",
    "               [ sin(q7)*cos(alpha6), cos(q7)*cos(alpha6), -sin(alpha6), -sin(alpha6)*d7],\n",
    "               [ sin(q7)*sin(alpha6), cos(q7)*sin(alpha6),  cos(alpha6),  cos(alpha6)*d7],\n",
    "               [                   0,                   0,            0,               1]])\n",
    "T6_G = T6_G.subs(s)"
   ]
  },
  {
   "cell_type": "markdown",
   "metadata": {},
   "source": [
    "Correct the Orientation difference between the definition of the gripper_link in the urdf-file and the Denavit-Hardenberg Convention.\n",
    "\n",
    "First apply a body-fixed rotation about the z-axis followed by a body-fixed rotation about the y-axis.\n",
    "\n",
    "R_corr is the composition of those two rotations."
   ]
  },
  {
   "cell_type": "code",
   "execution_count": 44,
   "metadata": {
    "collapsed": true
   },
   "outputs": [],
   "source": [
    "#Correct the Gripper\n",
    "R_z =  Matrix([[     cos(np.pi), -sin(np.pi),             0, 0],\n",
    "               [     sin(np.pi),  cos(np.pi),             0, 0],\n",
    "               [              0,           0,             1, 0],\n",
    "               [              0,           0,             0, 1]])\n",
    "\n",
    "R_y =  Matrix([[  cos(-np.pi/2),           0, sin(-np.pi/2), 0],\n",
    "               [              0,           1,             0, 0],\n",
    "               [ -sin(-np.pi/2),           0, cos(-np.pi/2), 0],\n",
    "               [              0,           0,             0, 1]])\n",
    "\n",
    "R_corr = simplify(R_z * R_y)"
   ]
  },
  {
   "cell_type": "markdown",
   "metadata": {},
   "source": [
    "Create individual transformation matrices"
   ]
  },
  {
   "cell_type": "code",
   "execution_count": 45,
   "metadata": {},
   "outputs": [
    {
     "name": "stdout",
     "output_type": "stream",
     "text": [
      "T0_1 =  Matrix([[1.00000000000000, 0, 0, 0], [0, 1.00000000000000, 0, 0], [0, 0, 1.00000000000000, 0.750000000000000], [0, 0, 0, 1.00000000000000]]) \n",
      "\n",
      "T0_2 =  Matrix([\n",
      "[  0, 1.0,   0, 0.35],\n",
      "[  0,   0, 1.0,    0],\n",
      "[1.0,   0,   0, 0.75],\n",
      "[  0,   0,   0,  1.0]]) \n",
      "\n",
      "T0_3 =  Matrix([\n",
      "[  0, 1.0,   0, 0.35],\n",
      "[  0,   0, 1.0,    0],\n",
      "[1.0,   0,   0,  2.0],\n",
      "[  0,   0,   0,  1.0]]) \n",
      "\n",
      "T0_4 =  Matrix([\n",
      "[  0,    0, 1.0,  1.85],\n",
      "[  0, -1.0,   0,     0],\n",
      "[1.0,    0,   0, 1.946],\n",
      "[  0,    0,   0,   1.0]]) \n",
      "\n",
      "T0_5 =  Matrix([\n",
      "[  0, 1.0,   0,  1.85],\n",
      "[  0,   0, 1.0,     0],\n",
      "[1.0,   0,   0, 1.946],\n",
      "[  0,   0,   0,   1.0]]) \n",
      "\n",
      "T0_6 =  Matrix([\n",
      "[  0,    0, 1.0,  1.85],\n",
      "[  0, -1.0,   0,     0],\n",
      "[1.0,    0,   0, 1.946],\n",
      "[  0,    0,   0,   1.0]]) \n",
      "\n",
      "T0_G =  Matrix([\n",
      "[  0,    0, 1.0, 2.153],\n",
      "[  0, -1.0,   0,     0],\n",
      "[1.0,    0,   0, 1.946],\n",
      "[  0,    0,   0,   1.0]]) \n",
      "\n",
      "T_total =  Matrix([\n",
      "[                  1.0,                     0, 6.12323399573677e-17, 2.153],\n",
      "[-7.49879891330929e-33,                   1.0, 1.22464679914735e-16,     0],\n",
      "[-6.12323399573677e-17, -1.22464679914735e-16,                  1.0, 1.946],\n",
      "[                    0,                     0,                    0,   1.0]]) \n",
      "\n"
     ]
    }
   ],
   "source": [
    "# Create individual transformation matrices\n",
    "T0_2 = simplify(T0_1 * T1_2) # base_link to link_2\n",
    "T0_3 = simplify(T0_2 * T2_3) # base_link to link_3\n",
    "T0_4 = simplify(T0_3 * T3_4) # base_link to link_4\n",
    "T0_5 = simplify(T0_4 * T4_5) # base_link to link_5\n",
    "T0_6 = simplify(T0_5 * T5_6) # base_link to link_6\n",
    "T0_G = simplify(T0_6 * T6_G) # base_link to gripper_link\n",
    "T_total = simplify(T0_G * R_corr) # Total HT between base_link and gripper_link with orientation correction applied\n",
    "\n",
    "#T0_G = simplify(T0_1 * T1_2 * T2_3 * T3_4 * T4_5 * T5_6 * T6_G)\n",
    "sub_dict = { q1: -2.77, q2: 0.36, q3: -2.41, q4: 4.56, q5: 1.31, q6: 4.70 }\n",
    "sub_dict_zero = { q1: 0, q2: 0, q3: 0, q4: 0, q5: 0, q6: 0 }\n",
    "# Evaluate transforms\n",
    "print (\"T0_1 = \", T0_1.evalf(subs=sub_dict_zero),\"\\n\")\n",
    "print (\"T0_2 = \", T0_2.evalf(subs=sub_dict_zero),\"\\n\")\n",
    "print (\"T0_3 = \", T0_3.evalf(subs=sub_dict_zero),\"\\n\")\n",
    "print (\"T0_4 = \", T0_4.evalf(subs=sub_dict_zero),\"\\n\")\n",
    "print (\"T0_5 = \", T0_5.evalf(subs=sub_dict_zero),\"\\n\")\n",
    "print (\"T0_6 = \", T0_6.evalf(subs=sub_dict_zero),\"\\n\")\n",
    "print (\"T0_G = \", T0_G.evalf(subs=sub_dict_zero),\"\\n\")\n",
    "print  (\"T_total = \", T_total.evalf(subs=sub_dict_zero),\"\\n\")"
   ]
  },
  {
   "cell_type": "markdown",
   "metadata": {},
   "source": [
    "Extract End-Effector position and orient from request\n",
    "Calculate joint angles using Geometric IK method"
   ]
  },
  {
   "cell_type": "code",
   "execution_count": 10,
   "metadata": {
    "collapsed": true
   },
   "outputs": [],
   "source": [
    "# Extract end-effector position and orientation from request\n",
    "# Test Input\n",
    "gt_1,gt_2,gt_3 = symbols('gt_1:4') # gt_1 = Gripper x, gt_2 = Gripper y, gt_3 = Gripper z\n",
    "gr_1, gr_2, gr_3 = symbols('gr_1:4') # Rotation Values in degrees - roll, pitch, yaw"
   ]
  },
  {
   "cell_type": "markdown",
   "metadata": {},
   "source": [
    "find the location of the WC relative to the base frame"
   ]
  },
  {
   "cell_type": "code",
   "execution_count": 46,
   "metadata": {
    "collapsed": true
   },
   "outputs": [],
   "source": [
    "# Build a rotation matrix from the Roll, Pitch and Yaw angles\n",
    "def get_wrist_rot_matrix(orientation):\n",
    "    roll  = orientation[0]\n",
    "    pitch = orientation[1]\n",
    "    yaw   = orientation[2]\n",
    "    \n",
    "    Rrpy = Matrix([[    cos(yaw)*cos(pitch),   cos(yaw)*sin(pitch)*sin(roll) - sin(yaw)*cos(roll),    cos(yaw)*sin(pitch)*cos(roll) + sin(yaw)*sin(roll)],\n",
    "                   [    sin(yaw)*cos(pitch),   sin(yaw)*sin(pitch)*sin(roll) + cos(yaw)*cos(roll),    sin(yaw)*sin(pitch)*cos(roll) - cos(yaw)*sin(roll)],\n",
    "                   [            -sin(pitch),             cos(pitch)*sin(roll),                                       cos(pitch)*cos(roll)               ]])\n",
    "\n",
    "    print(Rrpy)\n",
    "    return Rrpy\n",
    "\n",
    "\n",
    "def get_wrist_pos(position, Rrpy):\n",
    "       \n",
    "    px = position[0]\n",
    "    py = position[1]\n",
    "    pz = position[2]\n",
    "    \n",
    "    end_effector_length = 0.453\n",
    "    \n",
    "    \n",
    "    lx = Rrpy[ 0, 0 ]\n",
    "    ly = Rrpy[ 1, 0 ]\n",
    "    lz = Rrpy[ 2, 0 ]\n",
    "\n",
    "    print(\"lx:\",lx,\" ly:\",ly,\" lz:\",lz)\n",
    "\n",
    "    d6 = 0\n",
    "\n",
    "    # Calculate Wrist Center\n",
    "    wx = px - ( end_effector_length + d6 ) * lx\n",
    "    wy = py - ( end_effector_length + d6 ) * ly\n",
    "    wz = pz - ( end_effector_length + d6 ) * lz\n",
    "\n",
    "    print( 1.9466)\n",
    "    print(\"wx:\",wx,\" wy:\",wy,\" wz:\",wz)\n",
    "    \n",
    "    return wx, wy, wz, Rrpy\n"
   ]
  },
  {
   "cell_type": "code",
   "execution_count": 47,
   "metadata": {},
   "outputs": [
    {
     "name": "stdout",
     "output_type": "stream",
     "text": [
      "Matrix([[1, 0, 0], [0, 1, 0], [0, 0, 1]])\n",
      "lx: 1  ly: 0  lz: 0\n",
      "1.9466\n",
      "wx: 1.84990000000000  wy: 0  wz: 1.94660000000000\n"
     ]
    }
   ],
   "source": [
    "Rrpy = get_wrist_rot_matrix([0, 0, 0])\n",
    "wx, wy, wz, Rrpy = get_wrist_pos([2.3029, 0, 1.9466], Rrpy)"
   ]
  },
  {
   "cell_type": "markdown",
   "metadata": {},
   "source": [
    "find joint variables, q1, q2 and q3, such that the WC has coordinates equal to equation (3). This is the hard step. One way to attack the problem is by repeatedly projecting links onto planes and using trigonometry to solve for joint angles. Unfortunately, there is no generic recipe that works for all manipulators so you will have to experiment."
   ]
  },
  {
   "cell_type": "code",
   "execution_count": 51,
   "metadata": {},
   "outputs": [
    {
     "name": "stdout",
     "output_type": "stream",
     "text": [
      "theta1,2,3: 0 0.114689449584584 1.95998482362893\n",
      "1.77315854226795\n"
     ]
    },
    {
     "data": {
      "text/plain": [
       "[0, 0.114689449584584, 1.95998482362893]"
      ]
     },
     "execution_count": 51,
     "metadata": {},
     "output_type": "execute_result"
    }
   ],
   "source": [
    "# Calculate joint angles using Geometric IK method\n",
    "def get_t123 (wx, wy, wz):\n",
    "    \n",
    "    theta1 = atan2(wy, wx)\n",
    "    a_1 = 0.35\n",
    "    a_2 = 1.25\n",
    "    d_1 = 0.75\n",
    "    d_4 = 1.50\n",
    "    a_3 = -0.054\n",
    "    \n",
    "    \n",
    "    wc_dist_x = sqrt(wx**2 + wy**2) - a_1 # Subtract a1 as horizontal offset from robot-base\n",
    "    wc_dist_z = wz - d_1 # Subtract d1 as vertical offset from robot base\n",
    "    \n",
    "    x_c = sqrt( wc_dist_x**2 + wc_dist_z**2 )\n",
    "    y_c = wc_dist_z\n",
    "\n",
    "    L_25 = sqrt(x_c**2 + y_c**2)\n",
    "    L_35 = sqrt(a_3**2+d_4**2)\n",
    "\n",
    "    beta_4 = atan2(a_3,d_4)\n",
    "    #beta_3 = acos((L_25**2-a_2**2-L_35**2)/(-2*L_35*a_2))\n",
    "    cos_beta_3 = (( -L_25**2 + a_2**2 + L_35**2) / ( 2 * a_2 * L_35 ))\n",
    "    beta_3 = atan2( cos_beta_3, sqrt( 1 - cos_beta_3**2 ))\n",
    "    theta3 = np.pi/2 - beta_3 - beta_4\n",
    "    \n",
    "    beta_2 = atan2( y_c, x_c )\n",
    "    #beta_1 = acos( ( L_35**2 - L_25**2 - a_2**2 ) / ( -2 * L_25 * a_2 ) )\n",
    "    cos_beta_1 = ( ( -L_35**2 + L_25**2 + a_2**2 ) / ( 2 * L_25 * a_2 ) )\n",
    "    beta_1 = atan2(  cos_beta_1, sqrt( 1 - cos_beta_1**2 ) ) \n",
    "    theta2 = np.pi/2 - beta_1 - beta_2\n",
    "\n",
    "    print(\"theta1,2,3:\",theta1, theta2, theta3)\n",
    "    print(atan2(2.50022834193350,-0.512973099983402).evalf())\n",
    "    \n",
    "    return [ theta1.evalf(), theta2, theta3 ]\n",
    "\n",
    "get_t123(1.8499, 0, 1.9466)"
   ]
  },
  {
   "cell_type": "markdown",
   "metadata": {},
   "source": [
    "once the first three joint variables are known, calculate 03R via application of homogeneous transforms up to the WC."
   ]
  },
  {
   "cell_type": "code",
   "execution_count": 53,
   "metadata": {},
   "outputs": [
    {
     "name": "stdout",
     "output_type": "stream",
     "text": [
      "R0_3_eval: Matrix([[0.875716781259277, -0.482825143318874, 0], [0, 0, 1], [-0.482825143318874, -0.875716781259277, 0]])\n",
      "R3_6_eval: Matrix([[0.875716781259277, 0, -0.482825143318874], [-0.482825143318874, 0, -0.875716781259278], [0, 1, 0]])\n",
      "theta4,5,6: 0 2.63771470717118 0\n"
     ]
    },
    {
     "data": {
      "text/plain": [
       "[0, 2.63771470717118, 0]"
      ]
     },
     "execution_count": 53,
     "metadata": {},
     "output_type": "execute_result"
    }
   ],
   "source": [
    "def get_t456(theta1, theta2, theta3, Rrpy):\n",
    " \n",
    "    R0_3_eval = Matrix([[    sin(theta2 + theta3)*cos(theta1),   cos(theta1)*cos(theta2 + theta3),   -sin(theta1)],\n",
    "                       [   sin(theta1)*sin(theta2 + theta3),   sin(theta1)*cos(theta2 + theta3),   cos(theta1)],\n",
    "                       [   cos(theta2 + theta3),           -sin(theta2 + theta3),          0]])\n",
    "\n",
    "    print(\"R0_3_eval:\", R0_3_eval)\n",
    "\n",
    "    R3_6_eval = R0_3_eval.inv() * Rrpy\n",
    "\n",
    "    print(\"R3_6_eval:\", R3_6_eval)\n",
    "\n",
    "    theta5 = acos(R3_6_eval[1,2])\n",
    "    theta6 = asin(R3_6_eval[1,1] / (-sin(theta5)))\n",
    "    theta4 = asin(R3_6_eval[2,2] / sin(theta5))\n",
    "\n",
    "    print(\"theta4,5,6:\",theta4.evalf(),theta5.evalf(),theta6.evalf())\n",
    "    \n",
    "    return [ theta4, theta5, theta6 ]    \n",
    "\n",
    "get_t456( 0, 0.114689449584584, 1.95998482362893, Rrpy )"
   ]
  },
  {
   "cell_type": "markdown",
   "metadata": {},
   "source": [
    "find a set of Euler angles corresponding to the rotation matrix"
   ]
  },
  {
   "cell_type": "code",
   "execution_count": null,
   "metadata": {
    "collapsed": true
   },
   "outputs": [],
   "source": []
  },
  {
   "cell_type": "markdown",
   "metadata": {},
   "source": [
    "coose the correct solution among the set of possible solutions"
   ]
  },
  {
   "cell_type": "code",
   "execution_count": 7,
   "metadata": {
    "collapsed": true
   },
   "outputs": [],
   "source": [
    "# Calculate joint angles using Geometric IK method"
   ]
  }
 ],
 "metadata": {
  "kernelspec": {
   "display_name": "Python 3",
   "language": "python",
   "name": "python3"
  },
  "language_info": {
   "codemirror_mode": {
    "name": "ipython",
    "version": 3
   },
   "file_extension": ".py",
   "mimetype": "text/x-python",
   "name": "python",
   "nbconvert_exporter": "python",
   "pygments_lexer": "ipython3",
   "version": "3.5.2"
  },
  "widgets": {
   "state": {},
   "version": "1.1.2"
  }
 },
 "nbformat": 4,
 "nbformat_minor": 2
}
